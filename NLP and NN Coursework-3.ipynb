{
 "cells": [
  {
   "cell_type": "markdown",
   "metadata": {},
   "source": [
    "# PROLOGUE\n",
    "\n",
    "When I started this coursework and found the data my intention was to use it for NLP. In the course of coding, as with any coding endevour, ambition got the better of me. What has happened is that it is a Natural Language Programming and Neural Netowrk Coursework in one. Data collected is processed textwise and run through various shallow models. Then it is processed further and turned into vectorized data and put through a neural network. There aim was to compare the overall results of shallow models and deep models. I do hope you allow me this extravagance of posting this coursework for both NLP and Neural Network classes. The reason i chose to do it this way is because it offers me the ability to play with raw data clean it, process it, and trying to make sense of the models. A lot of data online whether for NLP or NN is pre-processed and just requires building a model."
   ]
  },
  {
   "cell_type": "markdown",
   "metadata": {},
   "source": [
    "# 1. Introduction\n",
    "\n",
    "This coursework project is a classification exercise to develop a text classfier and apply it to the specific problem of spam detection in the comments section of YouTube Videos. It is inspired and partly based on the works of Túlio C. Alberto, Johannes V. Lochter, and Tiago A. Almeida in their 2015 paper titled:\n",
    "> \"TupeSpam: Comment Spam Filtering on YouTube\"\n",
    "\n",
    "There paper can be read by clicking the following link: [Paper](https://www.dt.fee.unicamp.br/~tiago/papers/TCA_ICMLA15.pdf)"
   ]
  },
  {
   "cell_type": "markdown",
   "metadata": {},
   "source": [
    "## 1.1 Problem Area.\n",
    "\"The profitability promoted by Google in its brand new video distribution platform YouTube has attracted an increasing number of users. However, such success has also attracted malicious users, which aim to self-promote their videos or disseminate viruses and malwares. Since YouTube offers limited tools for comment moderation, the spam volume is shockingly increasing which lead owners of famous channels to disable the comments section in their videos. Automatic comment spam filtering on YouTube is a challenge even for established classification methods, since the messages are very short and often rife with slangs, symbols and abbreviations.\"(Alberto et al: 2015. Page 1)\n",
    "\n",
    "Social media platforms are moving away from viewership based metrircs to engagement based models. This is to promote users to use and subscribe to the platforms more. That is to make them more \"social\" than a place to go and just \"view\". The problem and challenge with spam comments is that it negatively affects the user experience and stops prominent brands from linking their products with such comments affecting the profitabilty of social media companies.\n",
    "\n",
    "## 1.2 Objectives.\n",
    "The objectives of this work is to build a text classifier to classfy spam comments correctly using the work of Alberto et al as a reference and benchmark. If a social media platform can accurately and cheaply identify spam comments they can be removed and in turn increase the user experience. THis in turn will allow prominen tbrands to feel confident and advertise more on social media platforms without fear of negative association to illict activities.\n",
    "\n",
    "In their work,ALberto et al used a total of 10 classification techniques. I wish to simplify the process and limit the process to 3 classification techniques:\n",
    "- Multinomial Naive Bayes\n",
    "- Logistic Regression\n",
    "- Random Forests.\n",
    "\n",
    "The reason for limiting it to these three techniques:\n",
    "- is to be thorough and have an abundance of literature and coding examples to fall on should I get stuck. \n",
    "- to limit computational power which can be expensive if models take to long to run. \n",
    "- to reach the same level of classification accuracy as Alberto et al. \n",
    "\n",
    "In addition to these three I will process the data further and run it through a:\n",
    "- Neural Netowrk.\n",
    "\n",
    "This is to:\n",
    "- compare shallow learning to deep learning.\n",
    "- to establish if it is necessary to always jump to Neural Networks or are simple models just as reliable.\n",
    "\n",
    "\n",
    "## 1.3 Data Set.\n",
    "I will be using an open-source Youtube Spam Collection dataset from the UCI machine learning repository, a dataset that contains 1956 instances. The data set can be downloaded by [clicking here](https://archive-beta.ics.uci.edu/ml/datasets/youtube+spam+collection).\n",
    "\n",
    "The data includes comments from some of the most watched Youtube channels:\n",
    "- Psy\n",
    "- Katty Perry\n",
    "- LMFAO\n",
    "- Eminem\n",
    "- Shakira\n",
    "\n",
    "## 1.4 Evaluation Methodolgy.\n",
    "THe evaluation of this model will be __Accuracy__. Accuracy is a metric for evaluating classification models. Accuracy is the fraction of predictions our model got right over all total predictions. For binary classification, accuracy can also be calculated in terms of positives and negatives as follows:\n",
    "\n",
    "$Accuracy = \\frac{TP}{TP + TN + FP + FN}$\n",
    " \n",
    "Where TP = True Positives, TN = True Negatives, FP = False Positives, and FN = False Negatives.\n",
    "\n",
    "There are of course other evaluation metrics. There are the;\n",
    "- __Precision__: Which tries to answer \"What proportion of positive identifications was actually correct?\"\n",
    "$Precision = \\frac{TP}{TP + FP}$\n",
    "- __Recal__: Which tries to answer \"What proportion of actual positives was identified correctly?\"\n",
    "$Recal = \\frac{TP}{TP + FN}$\n",
    "\n",
    "It would be nice to to make sure that the Precision and Recall are high. The reason for this. Is that if a message is a False Positive it is might be an actual enganging user who gets classified as Spam. A classifier might be weak and classify spam as False Negatives and undermine the user experience by having a high number of spam comments missed. In this regard, I would also like to see Precision and Recall high but not a priority like Accuracy."
   ]
  },
  {
   "cell_type": "markdown",
   "metadata": {},
   "source": [
    "# 2. Implementation\n",
    "This part part of the coursework is the implementation of the project. It includes pre-processing the data, building and testing classifier and obtaining results. The code is written in Python using Jupyter Notebook."
   ]
  },
  {
   "cell_type": "markdown",
   "metadata": {},
   "source": [
    "## 2.1 Load Data"
   ]
  },
  {
   "cell_type": "code",
   "execution_count": 1,
   "metadata": {},
   "outputs": [],
   "source": [
    "import pandas as pd\n",
    "\n",
    "files = [\n",
    "    '/Users/victorharvey/Documents/Projects/Projects/Åbo/YouTube-Spam-Collection-v1/Youtube01-Psy.csv',\n",
    "    '/Users/victorharvey/Documents/Projects/Projects/Åbo/YouTube-Spam-Collection-v1/Youtube02-KatyPerry.csv',\n",
    "    '/Users/victorharvey/Documents/Projects/Projects/Åbo/YouTube-Spam-Collection-v1/Youtube03-LMFAO.csv',\n",
    "    '/Users/victorharvey/Documents/Projects/Projects/Åbo/YouTube-Spam-Collection-v1/Youtube04-Eminem.csv',\n",
    "    '/Users/victorharvey/Documents/Projects/Projects/Åbo/YouTube-Spam-Collection-v1/Youtube05-Shakira.csv',\n",
    "]\n",
    "\n",
    "data = pd.DataFrame(pd.read_csv(files[0]))\n",
    "\n",
    "for i in range(1, len(files)):\n",
    "    csv = pd.read_csv(files[i])\n",
    "    df = pd.DataFrame(csv)\n",
    "    data = pd.concat([data, df], axis=0)\n",
    "\n",
    "youtube = data.copy()"
   ]
  },
  {
   "cell_type": "markdown",
   "metadata": {},
   "source": [
    "## 2.2 Explore Data"
   ]
  },
  {
   "cell_type": "code",
   "execution_count": 2,
   "metadata": {
    "scrolled": true
   },
   "outputs": [
    {
     "name": "stdout",
     "output_type": "stream",
     "text": [
      "DATAFRAME INFO\n",
      "<class 'pandas.core.frame.DataFrame'>\n",
      "Int64Index: 1956 entries, 0 to 369\n",
      "Data columns (total 5 columns):\n",
      " #   Column      Non-Null Count  Dtype \n",
      "---  ------      --------------  ----- \n",
      " 0   COMMENT_ID  1956 non-null   object\n",
      " 1   AUTHOR      1956 non-null   object\n",
      " 2   DATE        1711 non-null   object\n",
      " 3   CONTENT     1956 non-null   object\n",
      " 4   CLASS       1956 non-null   int64 \n",
      "dtypes: int64(1), object(4)\n",
      "memory usage: 91.7+ KB\n",
      "None\n",
      "--------------------------------------------------\n",
      "\n",
      "\n",
      "FIRST 4 ROWS\n",
      "                                    COMMENT_ID            AUTHOR  \\\n",
      "0  LZQPQhLyRh80UYxNuaDWhIGQYNQ96IuCg-AYWqNPjpU         Julius NM   \n",
      "1  LZQPQhLyRh_C2cTtd9MvFRJedxydaVW-2sNg5Diuo4A       adam riyati   \n",
      "2  LZQPQhLyRh9MSZYnf8djyk0gEF9BHDPYrrK-qCczIY8  Evgeny Murashkin   \n",
      "3          z13jhp0bxqncu512g22wvzkasxmvvzjaz04   ElNino Melendez   \n",
      "\n",
      "                  DATE                                            CONTENT  \\\n",
      "0  2013-11-07T06:20:48  Huh, anyway check out this you[tube] channel: ...   \n",
      "1  2013-11-07T12:37:15  Hey guys check out my new channel and our firs...   \n",
      "2  2013-11-08T17:34:21             just for test I have to say murdev.com   \n",
      "3  2013-11-09T08:28:43   me shaking my sexy ass on my channel enjoy ^_^ ﻿   \n",
      "\n",
      "   CLASS  \n",
      "0      1  \n",
      "1      1  \n",
      "2      1  \n",
      "3      1  \n",
      "--------------------------------------------------\n",
      "\n",
      "\n",
      "VALUE COUNTS OF LABELS\n",
      "1    1005\n",
      "0     951\n",
      "Name: CLASS, dtype: int64\n"
     ]
    }
   ],
   "source": [
    "print('DATAFRAME INFO')\n",
    "print(youtube.info())\n",
    "print('-' * 50)\n",
    "print('\\n')\n",
    "print('FIRST 4 ROWS')\n",
    "print(youtube.head(4))\n",
    "print('-' * 50)\n",
    "print('\\n')\n",
    "print('VALUE COUNTS OF LABELS')\n",
    "print(youtube['CLASS'].value_counts())"
   ]
  },
  {
   "cell_type": "markdown",
   "metadata": {},
   "source": [
    "### 2.2.1 Information of the Data.\n",
    "Our Data has 5 columns. Four can be classified as Features and the last one as the label. Label is 1 for 'Spam' and 0 for 'Ham'. The labels are split 49% is Spam and 51% is Ham. Showing that it is an almost equaly distributed data. This makes it accomodating to using Accuracy as an evaluation metric. A dataset weighted to much on either label would not make it ideal for Accuracy as a metric and would instead need to use Precision or Recall depending on the situation.\n",
    "\n",
    "From the exploration above we may need to reduce the number of features (drop columns) due to the Curse of Dimensionality. When you have too many features, you’ll also need a more complex model. A more complex model means you’ll need a lot more training data and more computing power to train your model to an acceptable level. On top of which, the column marked 'DATE' has only 1711 features out of a possible 1956. This is a shame since it would have been interesting to see if frequency and time of posting could say if a posting is Spam or not. This can be done in a deep learning model where the neural network learns to recognise missing data but the central problem stil persists, more features you need a lot more data than what I have.\n",
    "\n",
    "Going forward the models in this work will only use the columns 'CONTENT' and 'CLASS'. \n",
    "- CONTENT: Is where there is the text data\n",
    "- CLASSS: Is where the text data is classified as Spam (1) or Ham (0)."
   ]
  },
  {
   "cell_type": "markdown",
   "metadata": {},
   "source": [
    "## 2.3 Pre-processing\n",
    "Data in the comments comes in many forms of text data. This includes repetive words, stop words, hyperlinks and email address. These forms of text data may skew the overall results into defining a Spam or Ham email. The first step is to pre-processing  the text data. This section of the coursework has been made a lot easier by the works of Ramya Vidiyala which can be read [here](https://towardsdatascience.com/a-handbook-to-text-preprocessing-890f73fd28f8)."
   ]
  },
  {
   "cell_type": "markdown",
   "metadata": {},
   "source": [
    "### 2.3.1 Cleaning the raw data\n",
    "This part of pre-processing involves deletion of words or characters that do not add value to the meaning of the text in the email.\n",
    "- __Lowering Case.__ \n",
    "> Lowering the case of text is essential. This is because the words 'SPAM', 'Spam', and 'spam' add the same value to a sentence but are treated differently by an algorithm. We are trying to creaty uniformity across similar words.There is also a side benefit to lowering the case. That is because it reduces the side of words and thus reduces the dimensions to be used. Increasing processing speed.\n",
    "\n",
    "- __Removal of special characters:__ This is a pre-processing technique that will help treat text with and text without speical characters the same way. That is a words suchs as 'spam' and 'spam!!' are treated the same by removing the special characters.\n",
    "\n",
    "- __Removal of stopwords:__ Stopwords are commonly occuring words in a language like 'the', 'a', and so on. THey can be removed from the text most of the time, as they dont provide valuable information for this particular task. Stopwords have been known to provide value in sentiment analysis as they reveal emotiveness of a verb. John Pennebeker. \n",
    "\n",
    "- __Removal of Hyper Text Protocol (HTTP):__ There may or may not be any URLs in our text. To make absolutely sure we need to remove them anyway as they do not add any value inot our final goal of Spam detection.\n",
    "\n",
    "- __Removal of HTML tags:__ If the data is sourced from the internet throuhg parsing web pages we would need to remove HTML tags. As these tags add no value to the final output. \n",
    "\n"
   ]
  },
  {
   "cell_type": "markdown",
   "metadata": {},
   "source": [
    "### 2.3.2 Word Stem\n",
    "The remaining words will be considered tokens and will need to be normalised. Normalizing text is cleaning based on the semantic (meaning) ot Lexicon (structure) of the word. It ensures consistency in the data that is gone to be analyzed. There are two techniques of normalizing tokens:\n",
    "- stemming: The process of removing and replacing suffixes from the token to get the root of the word.\n",
    "- lemmatization: process of determining the root of a word based on its intended meaning.\n",
    "\n",
    "For this project the meaning of the word is not relevant. Thus we will be using the Stemming through the nltk librabry."
   ]
  },
  {
   "cell_type": "code",
   "execution_count": 3,
   "metadata": {},
   "outputs": [],
   "source": [
    "# Helper Fucntions\n",
    "\n",
    "import re\n",
    "\n",
    "from typing import Set, Any\n",
    "from nltk.corpus import stopwords\n",
    "from nltk.stem.porter import PorterStemmer\n",
    "\n",
    "def remove_hyperlink(df: pd.DataFrame, series: pd.Series):\n",
    "    \"\"\"\n",
    "    This is a function to remove any URLs in the data. \n",
    "    There is a good chance a comment has some URLs in it. \n",
    "    If so we would like to eliminate them as they do not add any value.\n",
    "    We remove them first before removing special characters.\n",
    "    This is because the removal of special characters will\n",
    "    make it harder to remove URLs as one unit.\n",
    "\n",
    "    Args:\n",
    "        df: The Dataframe being worked on.\n",
    "        series: The series in the dataframe that is being targeted.\n",
    "        \n",
    "    Returns: None. Creates a new column in the dataframe.\n",
    "\n",
    "    \"\"\"\n",
    "    container = []\n",
    "    for i in series:\n",
    "        container.append(re.sub(\n",
    "            r'(https?:)?\\/?\\/?(www\\.)?[-a-zA-Z0-9@:%._\\+~#=]{2,256}\\.[a-z]{2,4}\\b([-a-zA-Z0-9@:%_\\+\\\\.~#?&//=]*)', \n",
    "            '',\n",
    "            i))\n",
    "    df['Processed_A'] = container\n",
    "\n",
    "\n",
    "def remove_special_characters(df: pd.DataFrame, series: pd.Series):\n",
    "    \"\"\"\n",
    "    This is a function is to remove special characters from strings so that we can treat \n",
    "    words with a punctuation at the end and words without a punctuation at the end, \n",
    "    the same.\n",
    "    \n",
    "    Args:\n",
    "        df: The Dataframe being worked on.\n",
    "        series: The series in the dataframe that is being targeted.\n",
    "\n",
    "    Returns: None. Creates a new column in the dataframe.\n",
    "\n",
    "    \"\"\"\n",
    "    container = []\n",
    "    for i in series:\n",
    "        container.append(re.sub('[^A-Za-z0-9]', ' ', i))\n",
    "    df['Processed_B'] = container\n",
    "\n",
    "\n",
    "def remove_stopwords(df: pd.DataFrame, series: pd.Series):\n",
    "    \"\"\"\n",
    "    This function is to remove stopwords form the targeted column in question.By \n",
    "    removing these words, we remove the low-level information from our text to give \n",
    "    more focus to the important information. \n",
    "    \n",
    "    Args:\n",
    "        df: The Dataframe being worked on.\n",
    "        series: The series in the dataframe that is being targeted.\n",
    "\n",
    "    Returns:\n",
    "\n",
    "    \"\"\"\n",
    "    stop_words: Set[Any] = set(\",\".join(stopwords.words('english')))\n",
    "    # stopwords = set(stopwords.words('english'))\n",
    "\n",
    "    container = []\n",
    "    for i in series:\n",
    "        container.append(' '.join(e.lower() for e in i.split()\n",
    "                                  if e.lower() not in stop_words))\n",
    "    df['Processed_C'] = container\n",
    "\n",
    "def stem_words(df: pd.DataFrame, series: pd.Series):\n",
    "    stemmer = PorterStemmer()\n",
    "    container = []\n",
    "    for i in series:\n",
    "        container.append(\" \".join([stemmer.stem(word) for word in i.split()]))\n",
    "    df['PROCESSED'] = container\n",
    "    \n",
    "def remove_features(df: pd.DataFrame, features: list):\n",
    "    \"\"\"\n",
    "    This is a helper function to delete columns described to make the data more \n",
    "    managable.\n",
    "    \"\"\"\n",
    "    df.drop(features, axis=1, inplace=True)"
   ]
  },
  {
   "cell_type": "code",
   "execution_count": 4,
   "metadata": {},
   "outputs": [
    {
     "name": "stdout",
     "output_type": "stream",
     "text": [
      "<class 'pandas.core.frame.DataFrame'>\n",
      "Int64Index: 1956 entries, 0 to 369\n",
      "Data columns (total 2 columns):\n",
      " #   Column   Non-Null Count  Dtype \n",
      "---  ------   --------------  ----- \n",
      " 0   CONTENT  1956 non-null   object\n",
      " 1   CLASS    1956 non-null   int64 \n",
      "dtypes: int64(1), object(1)\n",
      "memory usage: 45.8+ KB\n"
     ]
    }
   ],
   "source": [
    "# Drop Features\n",
    "\n",
    "remove_features(youtube, [\"COMMENT_ID\", \"AUTHOR\", \"DATE\"])\n",
    "youtube.info()"
   ]
  },
  {
   "cell_type": "code",
   "execution_count": 5,
   "metadata": {},
   "outputs": [
    {
     "data": {
      "text/html": [
       "<div>\n",
       "<style scoped>\n",
       "    .dataframe tbody tr th:only-of-type {\n",
       "        vertical-align: middle;\n",
       "    }\n",
       "\n",
       "    .dataframe tbody tr th {\n",
       "        vertical-align: top;\n",
       "    }\n",
       "\n",
       "    .dataframe thead th {\n",
       "        text-align: right;\n",
       "    }\n",
       "</style>\n",
       "<table border=\"1\" class=\"dataframe\">\n",
       "  <thead>\n",
       "    <tr style=\"text-align: right;\">\n",
       "      <th></th>\n",
       "      <th>CONTENT</th>\n",
       "      <th>CLASS</th>\n",
       "    </tr>\n",
       "  </thead>\n",
       "  <tbody>\n",
       "    <tr>\n",
       "      <th>0</th>\n",
       "      <td>huh, anyway check out this you[tube] channel: ...</td>\n",
       "      <td>1</td>\n",
       "    </tr>\n",
       "    <tr>\n",
       "      <th>1</th>\n",
       "      <td>hey guys check out my new channel and our firs...</td>\n",
       "      <td>1</td>\n",
       "    </tr>\n",
       "    <tr>\n",
       "      <th>2</th>\n",
       "      <td>just for test i have to say murdev.com</td>\n",
       "      <td>1</td>\n",
       "    </tr>\n",
       "    <tr>\n",
       "      <th>3</th>\n",
       "      <td>me shaking my sexy ass on my channel enjoy ^_^ ﻿</td>\n",
       "      <td>1</td>\n",
       "    </tr>\n",
       "  </tbody>\n",
       "</table>\n",
       "</div>"
      ],
      "text/plain": [
       "                                             CONTENT  CLASS\n",
       "0  huh, anyway check out this you[tube] channel: ...      1\n",
       "1  hey guys check out my new channel and our firs...      1\n",
       "2             just for test i have to say murdev.com      1\n",
       "3   me shaking my sexy ass on my channel enjoy ^_^ ﻿      1"
      ]
     },
     "execution_count": 5,
     "metadata": {},
     "output_type": "execute_result"
    }
   ],
   "source": [
    "# Lower Case\n",
    "\n",
    "youtube['CONTENT'] = youtube['CONTENT'].str.lower()\n",
    "youtube.head(4)"
   ]
  },
  {
   "cell_type": "code",
   "execution_count": 6,
   "metadata": {},
   "outputs": [
    {
     "data": {
      "text/html": [
       "<div>\n",
       "<style scoped>\n",
       "    .dataframe tbody tr th:only-of-type {\n",
       "        vertical-align: middle;\n",
       "    }\n",
       "\n",
       "    .dataframe tbody tr th {\n",
       "        vertical-align: top;\n",
       "    }\n",
       "\n",
       "    .dataframe thead th {\n",
       "        text-align: right;\n",
       "    }\n",
       "</style>\n",
       "<table border=\"1\" class=\"dataframe\">\n",
       "  <thead>\n",
       "    <tr style=\"text-align: right;\">\n",
       "      <th></th>\n",
       "      <th>CLASS</th>\n",
       "      <th>PROCESSED</th>\n",
       "    </tr>\n",
       "  </thead>\n",
       "  <tbody>\n",
       "    <tr>\n",
       "      <th>0</th>\n",
       "      <td>1</td>\n",
       "      <td>huh anyway check out thi you tube channel koby...</td>\n",
       "    </tr>\n",
       "    <tr>\n",
       "      <th>1</th>\n",
       "      <td>1</td>\n",
       "      <td>hey guy check out my new channel and our first...</td>\n",
       "    </tr>\n",
       "    <tr>\n",
       "      <th>2</th>\n",
       "      <td>1</td>\n",
       "      <td>just for test have to say</td>\n",
       "    </tr>\n",
       "    <tr>\n",
       "      <th>3</th>\n",
       "      <td>1</td>\n",
       "      <td>me shake my sexi ass on my channel enjoy</td>\n",
       "    </tr>\n",
       "  </tbody>\n",
       "</table>\n",
       "</div>"
      ],
      "text/plain": [
       "   CLASS                                          PROCESSED\n",
       "0      1  huh anyway check out thi you tube channel koby...\n",
       "1      1  hey guy check out my new channel and our first...\n",
       "2      1                          just for test have to say\n",
       "3      1           me shake my sexi ass on my channel enjoy"
      ]
     },
     "execution_count": 6,
     "metadata": {},
     "output_type": "execute_result"
    }
   ],
   "source": [
    "# Pre Processing\n",
    "\n",
    "remove_hyperlink(youtube, youtube.CONTENT)\n",
    "remove_special_characters(youtube, youtube.Processed_A)\n",
    "remove_stopwords(youtube, youtube.Processed_B)\n",
    "stem_words(youtube, youtube.Processed_C)\n",
    "remove_features(youtube, [\"CONTENT\", \"Processed_A\", \"Processed_B\", \"Processed_C\" ])\n",
    "\n",
    "youtube.head(4)"
   ]
  },
  {
   "cell_type": "markdown",
   "metadata": {},
   "source": [
    "## 2.4 Baseline\n",
    "In the paper by Alberto et al the measures of accuracy for there models were:\n",
    "\n",
    "| Classifier | Accuracy |\n",
    "| :- | :- |\n",
    "| Multinomial Naive Bayes | 90.91% - 93.75% |\n",
    "| Logisitic Regression | 92.45% - 97.04% |\n",
    "| Random Forest | 91.51% - 95.56% |\n",
    "\n",
    "It is important to note that in the paper they do not combine the data into one variable as I have. Instead their models run 10 classifiers each individually on all the 5 datasets. This resulted in a mixed bag of output where not the same classifier achieved the same accuracy level for each dataset. Top classifier in each dataset:\n",
    "\n",
    "| Dataset | Top Classifier |\n",
    "| :- | :- |\n",
    "| Psy | Support Vector Machines with Gaussian Kernel |\n",
    "| Katty Perry | Random Forest |\n",
    "| LMFAO | Bernoulli Naive Bayes |\n",
    "| Eminem | Decision Trees |\n",
    "| Shakira | Multinomial Naive Bayes |\n",
    "\n",
    "In fact they conclude:\n",
    "\"For future work, since there was not just one method that achieved the best result for every single dataset, we can suppose an ensemble of classification methods can lead to better performance than single classifiers.\" (Alberto et al: 2015. Page 6).\n",
    "\n",
    "This proposal will become computationally expensive for the objectives of this work. To make it cheaper and less time consuming data has been concatenated together and treated as a single entity. The objective is to see if out results will be near the average of their models."
   ]
  },
  {
   "cell_type": "markdown",
   "metadata": {},
   "source": [
    "# 3. Code\n",
    "To run our machine learning model we will use the Python library scikit-learn(sklearn) for documentation please [clicking here](https://scikit-learn.org/stable/)."
   ]
  },
  {
   "cell_type": "markdown",
   "metadata": {},
   "source": [
    "## 3.1. Train Test Split\n",
    "It is important to split the data into a train and test set. This is to so the model can learn on one set and then go on to predict on the other. The reason we do not train and test on the sam edata is due to Overfitting. \n",
    "\n",
    "The aim of machine laerning models is to generalise. To learn concepts from data that is can apply to specific examples not yet seen by the model. Overfitting refers to a model that models the training data too well and thus perfroms poorly on new data. "
   ]
  },
  {
   "cell_type": "code",
   "execution_count": 7,
   "metadata": {},
   "outputs": [],
   "source": [
    "from sklearn.model_selection import train_test_split\n",
    "\n",
    "x_train, x_test, y_train, y_test = train_test_split(\n",
    "    youtube['PROCESSED'],\n",
    "    youtube['CLASS'],\n",
    "    test_size=0.2,\n",
    "    random_state=65\n",
    ")"
   ]
  },
  {
   "cell_type": "markdown",
   "metadata": {},
   "source": [
    "## 3.2. Tokenizing Cleaned Data\n",
    "Tokenization is the process of splitting text into smaller chunks called tokens. Each token acts as an input to the machine leanring algorithm as a feature.\n",
    "\n",
    "### 3.2.1. Count Vectorizer\n",
    "\n",
    "To use sklearn we need to turn the processed data into vectorized data using a representation of word counts. CountVectorizer counts words and turns it into vectors from occurence to frequencies. \n",
    "\n",
    "Occurance count is a good start but it has a drawack. Longer comments will have a higher average count values than short comments even if they are about the same subject. To avoid this we divide the number of occurences of each word in a comment by the total number of words in that comment. This is called __Term Frequency__.\n",
    "\n",
    "We can refine this further by downscaling the weights of the words that occur in the number of cells in the data and are therefore less informative than those that occcur only in a smaller portion of the cells. This downscaling is called __Term Frequency Times Inverse Documents Frequency__.\n",
    "\n",
    "In this way, we are tokenizing the data by turning each word into a representation of its count adjusted for freuency in each cell and normalised by its occurance."
   ]
  },
  {
   "cell_type": "code",
   "execution_count": 8,
   "metadata": {},
   "outputs": [],
   "source": [
    "from sklearn.feature_extraction.text import CountVectorizer\n",
    "from sklearn.feature_extraction.text import TfidfTransformer\n",
    "\n",
    "# Term Frequency \n",
    "\n",
    "count_vect = CountVectorizer(stop_words='english')\n",
    "x_train_counts = count_vect.fit_transform(x_train)\n",
    "x_test_counts = count_vect.transform(x_test)\n",
    "\n",
    "# Term Frequency Times Inverse Documents Frequency\n",
    "\n",
    "tranformer = TfidfTransformer()\n",
    "x_train_tfidf = tranformer.fit_transform(x_train_counts)\n",
    "x_test_tfidf = tranformer.transform(x_test_counts)"
   ]
  },
  {
   "cell_type": "code",
   "execution_count": 9,
   "metadata": {},
   "outputs": [
    {
     "name": "stdout",
     "output_type": "stream",
     "text": [
      "Encoded Train Comments are:\n",
      "[[0. 0. 0. ... 0. 0. 0.]\n",
      " [0. 0. 0. ... 0. 0. 0.]\n",
      " [0. 0. 0. ... 0. 0. 0.]\n",
      " ...\n",
      " [0. 0. 0. ... 0. 0. 0.]\n",
      " [0. 0. 0. ... 0. 0. 0.]\n",
      " [0. 0. 0. ... 0. 0. 0.]]\n",
      "Encoded Test Comments are:\n",
      "[[0. 0. 0. ... 0. 0. 0.]\n",
      " [0. 0. 0. ... 0. 0. 0.]\n",
      " [0. 0. 0. ... 0. 0. 0.]\n",
      " ...\n",
      " [0. 0. 0. ... 0. 0. 0.]\n",
      " [0. 0. 0. ... 0. 0. 0.]\n",
      " [0. 0. 0. ... 0. 0. 0.]]\n",
      "Encoded Train Comments have a shape:\n",
      "(1564, 2727)\n",
      "Encoded Test Comments have a shape:\n",
      "(392, 2727)\n"
     ]
    }
   ],
   "source": [
    "# Summarizing the Encoded Texts\n",
    "\n",
    "print(\"Encoded Train Comments are:\")\n",
    "print(x_train_tfidf.toarray())\n",
    "print(\"Encoded Test Comments are:\")\n",
    "print(x_test_tfidf.toarray())\n",
    "\n",
    "# Exploring the shape\n",
    "\n",
    "print(\"Encoded Train Comments have a shape:\")\n",
    "print(x_train_tfidf.shape)\n",
    "print(\"Encoded Test Comments have a shape:\")\n",
    "print(x_test_tfidf.shape)"
   ]
  },
  {
   "cell_type": "markdown",
   "metadata": {},
   "source": [
    "## 3.3. Multinomial Naive Bayes\n",
    "Niave Bayes is a simple classifieer based of Bayes Theorem with small parameters that can achieve high levels of accuracy. \n",
    "\n",
    "It has simple assumptions that the features are :\n",
    "> Independent from each other.\n",
    "\n",
    "> All equally weighted\n",
    "\n",
    "The sklearn multinomial naive bayes is sutiable for discrete features such as word counts.It normally requires interger feature counts and works well with TF-IDF."
   ]
  },
  {
   "cell_type": "code",
   "execution_count": 10,
   "metadata": {},
   "outputs": [
    {
     "data": {
      "text/plain": [
       "array([1, 0, 1, 1, 1, 1, 1, 0, 1, 0, 1, 1, 0, 1, 1, 0, 1, 1, 0, 1, 0, 0,\n",
       "       0, 0, 1, 0, 0, 1, 1, 0, 0, 1, 1, 1, 0, 1, 1, 0, 1, 0, 0, 0, 0, 0,\n",
       "       1, 0, 0, 1, 1, 0, 0, 0, 1, 1, 0, 0, 0, 1, 1, 1, 1, 1, 1, 0, 0, 0,\n",
       "       1, 0, 0, 1, 1, 0, 0, 1, 1, 1, 1, 1, 1, 0, 1, 0, 1, 0, 0, 1, 1, 1,\n",
       "       0, 1, 1, 1, 1, 0, 1, 1, 1, 0, 1, 1, 1, 0, 0, 1, 1, 0, 1, 1, 1, 1,\n",
       "       1, 1, 1, 1, 0, 1, 0, 0, 1, 0, 0, 0, 1, 1, 0, 1, 1, 1, 1, 1, 0, 1,\n",
       "       1, 1, 1, 0, 0, 1, 1, 0, 0, 0, 1, 1, 0, 0, 0, 0, 1, 1, 0, 1, 1, 1,\n",
       "       1, 0, 0, 0, 0, 1, 1, 0, 0, 0, 1, 0, 0, 1, 0, 1, 0, 0, 1, 0, 1, 0,\n",
       "       1, 1, 1, 1, 1, 1, 0, 0, 1, 1, 1, 1, 1, 0, 1, 1, 1, 1, 0, 0, 1, 0,\n",
       "       1, 1, 0, 0, 0, 0, 1, 0, 1, 1, 0, 1, 1, 1, 1, 1, 1, 1, 0, 0, 0, 1,\n",
       "       0, 1, 1, 0, 1, 1, 0, 0, 1, 0, 1, 1, 1, 1, 1, 1, 0, 0, 1, 0, 0, 1,\n",
       "       1, 1, 0, 1, 1, 0, 0, 1, 1, 0, 0, 1, 1, 1, 0, 1, 0, 0, 1, 1, 1, 0,\n",
       "       0, 1, 0, 0, 1, 0, 0, 0, 0, 1, 1, 1, 1, 0, 0, 0, 1, 0, 0, 0, 1, 0,\n",
       "       0, 0, 0, 1, 1, 0, 1, 0, 0, 0, 1, 1, 0, 1, 1, 1, 1, 1, 1, 0, 1, 1,\n",
       "       0, 1, 1, 1, 0, 0, 0, 0, 0, 1, 1, 1, 0, 0, 1, 0, 0, 0, 1, 0, 1, 1,\n",
       "       1, 0, 0, 1, 1, 0, 0, 0, 1, 1, 1, 1, 0, 1, 1, 0, 0, 1, 0, 0, 1, 0,\n",
       "       1, 1, 1, 0, 0, 0, 1, 0, 1, 0, 0, 0, 1, 1, 0, 1, 1, 0, 1, 0, 1, 0,\n",
       "       1, 0, 0, 1, 1, 1, 0, 0, 1, 0, 0, 0, 1, 0, 0, 1, 0, 0])"
      ]
     },
     "execution_count": 10,
     "metadata": {},
     "output_type": "execute_result"
    }
   ],
   "source": [
    "from sklearn.naive_bayes import MultinomialNB\n",
    "\n",
    "model_nb = MultinomialNB()\n",
    "model_nb.fit(x_train_tfidf, y_train)\n",
    "\n",
    "predictions_nb = model_nb.predict(x_test_tfidf)\n",
    "predictions_nb"
   ]
  },
  {
   "cell_type": "code",
   "execution_count": 11,
   "metadata": {},
   "outputs": [
    {
     "name": "stdout",
     "output_type": "stream",
     "text": [
      "CONFUSION MATRIX\n",
      "[[162  18]\n",
      " [ 17 195]]\n",
      "The Accuracy Score of the Multinomial Naive Bayes Model is 0.9107142857142857\n",
      "\n",
      "\n",
      "CLASSIFICATION REPORT\n",
      "              precision    recall  f1-score   support\n",
      "\n",
      "           0       0.91      0.90      0.90       180\n",
      "           1       0.92      0.92      0.92       212\n",
      "\n",
      "    accuracy                           0.91       392\n",
      "   macro avg       0.91      0.91      0.91       392\n",
      "weighted avg       0.91      0.91      0.91       392\n",
      "\n"
     ]
    }
   ],
   "source": [
    "from sklearn.metrics import confusion_matrix, classification_report, accuracy_score\n",
    "\n",
    "print('CONFUSION MATRIX')\n",
    "print(confusion_matrix(y_test, predictions_nb))\n",
    "print('The Accuracy Score of the Multinomial Naive Bayes Model is {}'.format(\n",
    "    accuracy_score(y_test, predictions_nb)))\n",
    "print('\\n')\n",
    "print('CLASSIFICATION REPORT')\n",
    "print(classification_report(y_test, predictions_nb))"
   ]
  },
  {
   "cell_type": "markdown",
   "metadata": {},
   "source": [
    "## 3.4. Logistic Regression\n",
    "Logistics regression is a model that uses a logistic function (or sigmoid function) to model binary dependent variables. It uses an equation as the representation like linear regression. The key difference from linear regression is that the output value being modeled is a binary value (0 or 1) and not continuous. It does this by estimating the parameters of classification by predicting the probability of the outputs."
   ]
  },
  {
   "cell_type": "code",
   "execution_count": 12,
   "metadata": {},
   "outputs": [
    {
     "data": {
      "text/plain": [
       "array([1, 0, 1, 1, 1, 1, 0, 0, 1, 0, 1, 1, 0, 1, 1, 0, 1, 1, 0, 0, 0, 0,\n",
       "       0, 0, 1, 0, 0, 1, 0, 0, 0, 1, 1, 1, 0, 1, 0, 0, 1, 0, 0, 0, 0, 0,\n",
       "       1, 0, 0, 1, 1, 1, 0, 0, 1, 1, 0, 0, 0, 0, 1, 1, 1, 1, 1, 0, 1, 0,\n",
       "       1, 0, 0, 1, 1, 0, 0, 1, 1, 1, 1, 0, 0, 0, 1, 0, 1, 0, 0, 1, 1, 1,\n",
       "       0, 0, 1, 1, 1, 0, 1, 1, 1, 0, 1, 1, 1, 0, 0, 1, 1, 0, 0, 1, 0, 1,\n",
       "       1, 1, 0, 1, 0, 1, 0, 0, 1, 0, 0, 0, 1, 0, 0, 1, 1, 1, 1, 1, 0, 1,\n",
       "       1, 0, 1, 0, 0, 1, 1, 1, 0, 0, 1, 1, 0, 0, 0, 0, 1, 0, 0, 1, 1, 1,\n",
       "       1, 0, 0, 0, 0, 1, 0, 0, 0, 0, 1, 0, 0, 1, 0, 1, 0, 0, 1, 0, 0, 0,\n",
       "       0, 1, 1, 0, 1, 1, 0, 0, 1, 1, 1, 1, 1, 0, 1, 1, 1, 1, 0, 0, 1, 0,\n",
       "       1, 1, 0, 0, 0, 0, 1, 0, 1, 0, 0, 1, 1, 1, 1, 0, 1, 1, 0, 0, 0, 0,\n",
       "       0, 1, 1, 0, 1, 1, 0, 0, 1, 0, 1, 1, 1, 1, 1, 1, 0, 0, 1, 0, 0, 1,\n",
       "       1, 1, 0, 1, 1, 0, 0, 1, 1, 0, 0, 1, 1, 1, 0, 1, 0, 0, 1, 1, 1, 0,\n",
       "       0, 1, 0, 0, 1, 0, 0, 0, 0, 1, 1, 1, 1, 0, 0, 0, 1, 0, 0, 0, 1, 0,\n",
       "       0, 0, 0, 1, 1, 0, 1, 0, 0, 0, 0, 1, 0, 1, 1, 1, 1, 1, 1, 0, 1, 0,\n",
       "       0, 1, 1, 1, 0, 0, 0, 0, 0, 1, 1, 1, 0, 0, 1, 0, 0, 0, 1, 0, 1, 1,\n",
       "       1, 0, 0, 0, 1, 0, 0, 0, 1, 1, 1, 0, 0, 1, 1, 0, 0, 1, 0, 0, 1, 0,\n",
       "       1, 1, 0, 0, 0, 0, 1, 0, 1, 0, 0, 0, 1, 1, 0, 1, 1, 0, 1, 0, 1, 0,\n",
       "       1, 0, 0, 1, 1, 1, 0, 0, 1, 0, 0, 0, 0, 0, 0, 1, 0, 0])"
      ]
     },
     "execution_count": 12,
     "metadata": {},
     "output_type": "execute_result"
    }
   ],
   "source": [
    "from sklearn.linear_model import LogisticRegression\n",
    "\n",
    "model_Log = LogisticRegression()\n",
    "model_Log.fit(x_train_tfidf, y_train)\n",
    "\n",
    "predictions_log = model_Log.predict(x_test_tfidf)\n",
    "predictions_log"
   ]
  },
  {
   "cell_type": "code",
   "execution_count": 13,
   "metadata": {},
   "outputs": [
    {
     "name": "stdout",
     "output_type": "stream",
     "text": [
      "CONFUSION MATRIX\n",
      "[[174   6]\n",
      " [ 29 183]]\n",
      "The Accuracy Score of the Logistic Regression Model is 0.9107142857142857\n",
      "\n",
      "\n",
      "CLASSIFICATION REPORT\n",
      "              precision    recall  f1-score   support\n",
      "\n",
      "           0       0.86      0.97      0.91       180\n",
      "           1       0.97      0.86      0.91       212\n",
      "\n",
      "    accuracy                           0.91       392\n",
      "   macro avg       0.91      0.91      0.91       392\n",
      "weighted avg       0.92      0.91      0.91       392\n",
      "\n"
     ]
    }
   ],
   "source": [
    "print('CONFUSION MATRIX')\n",
    "print(confusion_matrix(y_test, predictions_log))\n",
    "print('The Accuracy Score of the Logistic Regression Model is {}'.format(\n",
    "    accuracy_score(y_test, predictions_log)))\n",
    "print('\\n')\n",
    "print('CLASSIFICATION REPORT')\n",
    "print(classification_report(y_test, predictions_log))"
   ]
  },
  {
   "cell_type": "markdown",
   "metadata": {},
   "source": [
    "## 3.5. Random Forest\n",
    "Random Forests are a derivative of a Decision Tree model of machine learning. A decision tree is a predictive model that goes from observations about an item to conclusions about the item's label by assuming that the item has finite discrete domains and there is a single feature called the \"classification\".\n",
    "\n",
    "A random forest is a large number of decision tree that operate as an ensemble. Each individual tree in a random forest produces a classification prediction and the classification with the most votes becomes the model's prediction.\n",
    "\n",
    "It comes from a very powerful concept - wisdom of the crowds. \"A large numebr of relatively uncorrelated models operating as a committee will outperform any of the individual constituent models.\"[quote](https://towardsdatascience.com/understanding-random-forest-58381e0602d2)"
   ]
  },
  {
   "cell_type": "code",
   "execution_count": 14,
   "metadata": {},
   "outputs": [
    {
     "data": {
      "text/plain": [
       "array([1, 0, 1, 1, 1, 1, 1, 0, 1, 1, 1, 1, 0, 1, 1, 0, 1, 1, 0, 1, 0, 0,\n",
       "       0, 0, 1, 0, 0, 1, 0, 0, 0, 1, 1, 1, 0, 1, 1, 0, 1, 0, 0, 0, 0, 0,\n",
       "       0, 0, 0, 1, 1, 1, 0, 0, 1, 1, 0, 1, 0, 0, 1, 1, 1, 1, 1, 0, 1, 0,\n",
       "       0, 0, 0, 1, 1, 0, 0, 1, 1, 1, 1, 1, 0, 0, 1, 0, 1, 0, 0, 1, 1, 1,\n",
       "       1, 1, 1, 1, 1, 0, 1, 1, 1, 1, 1, 1, 1, 0, 0, 1, 1, 0, 1, 1, 1, 1,\n",
       "       1, 1, 1, 1, 0, 1, 0, 0, 1, 0, 0, 0, 1, 1, 0, 1, 1, 1, 1, 1, 0, 1,\n",
       "       1, 1, 1, 0, 0, 1, 1, 1, 0, 1, 1, 1, 1, 0, 0, 0, 1, 1, 0, 1, 1, 1,\n",
       "       1, 0, 0, 0, 0, 1, 0, 0, 0, 0, 1, 0, 0, 1, 0, 1, 0, 0, 1, 0, 1, 1,\n",
       "       1, 1, 1, 1, 1, 1, 0, 1, 1, 1, 1, 1, 1, 0, 1, 1, 1, 1, 0, 0, 1, 0,\n",
       "       1, 1, 0, 0, 0, 0, 1, 0, 1, 1, 0, 1, 1, 1, 1, 0, 1, 1, 0, 0, 0, 0,\n",
       "       0, 1, 0, 0, 1, 1, 0, 0, 1, 0, 1, 1, 1, 1, 1, 1, 0, 0, 1, 0, 0, 1,\n",
       "       1, 1, 0, 1, 1, 0, 0, 1, 1, 0, 1, 1, 1, 1, 0, 1, 0, 1, 1, 1, 1, 0,\n",
       "       0, 1, 0, 0, 1, 0, 1, 0, 1, 1, 1, 0, 1, 0, 0, 0, 1, 0, 0, 0, 1, 0,\n",
       "       1, 0, 0, 1, 1, 0, 1, 0, 0, 1, 1, 1, 0, 1, 1, 1, 1, 1, 1, 0, 1, 1,\n",
       "       0, 1, 0, 1, 0, 0, 0, 0, 0, 1, 1, 1, 1, 0, 1, 0, 0, 0, 1, 1, 1, 1,\n",
       "       0, 0, 0, 1, 1, 0, 0, 1, 1, 1, 1, 0, 0, 1, 1, 0, 0, 1, 0, 0, 1, 0,\n",
       "       1, 1, 1, 0, 0, 0, 1, 0, 1, 0, 1, 0, 1, 1, 0, 1, 1, 1, 1, 0, 1, 0,\n",
       "       1, 1, 0, 1, 1, 1, 0, 0, 1, 0, 0, 0, 0, 0, 0, 1, 0, 0])"
      ]
     },
     "execution_count": 14,
     "metadata": {},
     "output_type": "execute_result"
    }
   ],
   "source": [
    "from sklearn.ensemble import RandomForestClassifier\n",
    "\n",
    "model_ran = RandomForestClassifier()\n",
    "model_ran.fit(x_train_tfidf, y_train)\n",
    "\n",
    "predictions_ran = model_ran.predict(x_test_tfidf)\n",
    "predictions_ran"
   ]
  },
  {
   "cell_type": "code",
   "execution_count": 15,
   "metadata": {},
   "outputs": [
    {
     "name": "stdout",
     "output_type": "stream",
     "text": [
      "CONFUSION MATRIX\n",
      "[[158  22]\n",
      " [ 12 200]]\n",
      "The Accuracy Score of the Random Forest Model is 0.9132653061224489\n",
      "\n",
      "\n",
      "CLASSIFICATION REPORT\n",
      "              precision    recall  f1-score   support\n",
      "\n",
      "           0       0.93      0.88      0.90       180\n",
      "           1       0.90      0.94      0.92       212\n",
      "\n",
      "    accuracy                           0.91       392\n",
      "   macro avg       0.92      0.91      0.91       392\n",
      "weighted avg       0.91      0.91      0.91       392\n",
      "\n"
     ]
    }
   ],
   "source": [
    "print('CONFUSION MATRIX')\n",
    "print(confusion_matrix(y_test, predictions_ran))\n",
    "print('The Accuracy Score of the Random Forest Model is {}'.format(\n",
    "    accuracy_score(y_test, predictions_ran)))\n",
    "print('\\n')\n",
    "print('CLASSIFICATION REPORT')\n",
    "print(classification_report(y_test, predictions_ran))"
   ]
  },
  {
   "cell_type": "markdown",
   "metadata": {},
   "source": [
    "## 3.6. Find the Best Hyper-parameters for Random Forest\n",
    "The disadvantage of the Random forest model is that it has many hyper-parameters for tuning. The most important hyper-parameters of a Random Forest that can be tuned are:\n",
    "- The number of Decision Trees in the forest\n",
    "- The criteria with which to split on each node (Gini or Entropy for a classification task, or the MSE or MAE for regression).\n",
    "- The maximum depth of the individual trees. \n",
    "- The minimum samples to split on at an internal node of the trees. \n",
    "- Maximum number of leaf nodes. \n",
    "- Number of random features to include at each node for splitting.\n",
    "- The size of the bootstrapped dataset to train each Decision Tree with.\n",
    "\n",
    "To get around this challenge we perform a Grid Search to find the best optimal hyper-parameters. To do this we use GridSearchCV provided by sklearn. The aim is to see if we can get better Accuracy measures by tuning the hyper-parameters. \n",
    "\n",
    "Please note that Grid Search is a computationally expensive process. To simplyfy I have limited the number of possibilities for each. Which may show in the results as they might not be optimal. To notice how computationally tasking this is on 1,956 comments there is a timer that has been added to the code. Now imagine that time multiplied by the millions of comments on youtube."
   ]
  },
  {
   "cell_type": "code",
   "execution_count": 16,
   "metadata": {},
   "outputs": [
    {
     "name": "stdout",
     "output_type": "stream",
     "text": [
      "{'bootstrap': True, 'max_depth': 4, 'max_features': 'sqrt', 'min_samples_leaf': 1, 'min_samples_split': 20, 'n_estimators': 50}\n",
      "Time elapsed to find those 6 parameters each one limited to max of three was 104.29 seconds.\n"
     ]
    }
   ],
   "source": [
    "from sklearn.model_selection import GridSearchCV\n",
    "import timeit\n",
    "\n",
    "start_time = timeit.default_timer()\n",
    "\n",
    "parameters = {\n",
    "    'max_depth': [1, 3, 4],\n",
    "    'n_estimators': [10, 30, 50],\n",
    "    'max_features': ['sqrt', 'auto', 'log2'],\n",
    "    'min_samples_split': [10, 20, 30],\n",
    "    'min_samples_leaf': [1, 3, 10],\n",
    "    'bootstrap': [True, False],\n",
    "}\n",
    "model_grid = GridSearchCV(RandomForestClassifier(), parameters)\n",
    "model_grid.fit(x_train_tfidf, y_train)\n",
    "model_grid.best_params_\n",
    "\n",
    "elapsed = timeit.default_timer() - start_time\n",
    "print(model_grid.best_params_)\n",
    "print('Time elapsed to find those 6 parameters each one limited to max of three was {} seconds.'.format(\n",
    "    round(elapsed,2)))"
   ]
  },
  {
   "cell_type": "code",
   "execution_count": 17,
   "metadata": {},
   "outputs": [
    {
     "data": {
      "text/plain": [
       "array([1, 0, 1, 0, 0, 1, 0, 0, 1, 0, 1, 1, 0, 1, 1, 0, 1, 1, 0, 0, 0, 0,\n",
       "       0, 0, 0, 0, 0, 1, 0, 0, 0, 1, 1, 0, 0, 1, 0, 0, 1, 0, 0, 0, 0, 0,\n",
       "       0, 0, 0, 1, 1, 0, 0, 0, 1, 1, 0, 0, 0, 0, 1, 1, 1, 0, 1, 0, 0, 0,\n",
       "       0, 0, 0, 1, 1, 0, 0, 1, 0, 0, 1, 0, 1, 0, 1, 0, 1, 0, 0, 1, 0, 0,\n",
       "       0, 0, 0, 1, 1, 0, 1, 1, 1, 0, 1, 1, 1, 0, 0, 1, 1, 0, 0, 0, 0, 1,\n",
       "       1, 1, 0, 1, 0, 1, 0, 0, 1, 0, 0, 0, 1, 0, 0, 1, 0, 1, 1, 1, 0, 1,\n",
       "       1, 0, 1, 0, 0, 1, 1, 0, 0, 0, 1, 0, 0, 0, 1, 0, 1, 0, 0, 0, 1, 1,\n",
       "       1, 0, 0, 0, 0, 1, 0, 0, 0, 0, 1, 0, 0, 1, 0, 1, 0, 0, 1, 0, 0, 0,\n",
       "       0, 1, 1, 0, 1, 1, 0, 0, 1, 1, 1, 1, 1, 0, 1, 1, 1, 0, 0, 0, 1, 0,\n",
       "       0, 1, 0, 0, 0, 0, 1, 0, 0, 0, 0, 1, 1, 1, 1, 0, 1, 1, 0, 0, 0, 0,\n",
       "       0, 1, 1, 0, 0, 1, 0, 0, 1, 0, 1, 0, 1, 1, 1, 1, 0, 0, 1, 0, 0, 1,\n",
       "       1, 1, 0, 1, 1, 0, 0, 1, 1, 0, 0, 1, 1, 1, 0, 1, 0, 1, 0, 1, 0, 0,\n",
       "       0, 1, 0, 0, 1, 0, 0, 0, 0, 1, 0, 0, 1, 0, 0, 0, 1, 0, 0, 0, 1, 0,\n",
       "       0, 0, 0, 1, 1, 0, 0, 0, 0, 0, 0, 1, 0, 1, 1, 1, 1, 1, 1, 0, 1, 0,\n",
       "       0, 1, 1, 1, 0, 0, 0, 0, 0, 1, 0, 1, 0, 0, 1, 0, 0, 0, 1, 0, 1, 1,\n",
       "       1, 0, 0, 0, 1, 0, 0, 0, 0, 1, 1, 1, 0, 0, 1, 0, 0, 1, 0, 0, 1, 0,\n",
       "       1, 1, 0, 0, 0, 0, 1, 0, 1, 1, 1, 0, 1, 0, 0, 1, 1, 0, 1, 0, 1, 0,\n",
       "       1, 0, 0, 1, 1, 1, 0, 0, 0, 0, 0, 0, 0, 0, 0, 1, 0, 0])"
      ]
     },
     "execution_count": 17,
     "metadata": {},
     "output_type": "execute_result"
    }
   ],
   "source": [
    "predictions_grid = model_grid.predict(x_test_tfidf)\n",
    "predictions_grid"
   ]
  },
  {
   "cell_type": "code",
   "execution_count": 18,
   "metadata": {},
   "outputs": [
    {
     "name": "stdout",
     "output_type": "stream",
     "text": [
      "CONFUSION MATRIX\n",
      "[[175   5]\n",
      " [ 56 156]]\n",
      "The Accuracy Score of finding best parameters is 0.8443877551020408\n",
      "\n",
      "\n",
      "CLASSIFICATION REPORT\n",
      "              precision    recall  f1-score   support\n",
      "\n",
      "           0       0.76      0.97      0.85       180\n",
      "           1       0.97      0.74      0.84       212\n",
      "\n",
      "    accuracy                           0.84       392\n",
      "   macro avg       0.86      0.85      0.84       392\n",
      "weighted avg       0.87      0.84      0.84       392\n",
      "\n"
     ]
    }
   ],
   "source": [
    "print('CONFUSION MATRIX')\n",
    "print(confusion_matrix(y_test, predictions_grid))\n",
    "print('The Accuracy Score of finding best parameters is {}'.format(\n",
    "    accuracy_score(y_test, predictions_grid)))\n",
    "print('\\n')\n",
    "print('CLASSIFICATION REPORT')\n",
    "print(classification_report(y_test, predictions_grid))"
   ]
  },
  {
   "cell_type": "markdown",
   "metadata": {},
   "source": [
    "## 3.7. Deep Learning (Neural Networks).\n",
    "Deep leanring is a subset of machine learnign consisting of neural networks. Neurla networks are comprised of a node layers, containing an input layer, one or more hidden layers, and an output layer. Each node, or neuron, connects to another and has an associated weight and threshold. If the output of any individual node is above the specified threshold value, that node is activated, sending data to the next layer of the network. Otherwise, no data is passed along to the next layer of the network\n"
   ]
  },
  {
   "cell_type": "markdown",
   "metadata": {},
   "source": [
    "__Note__:I have to import the module below to get tensorflow to work on my macbook envirionment. Please hash it  or delete if it is not needed in your environment."
   ]
  },
  {
   "cell_type": "code",
   "execution_count": 19,
   "metadata": {},
   "outputs": [],
   "source": [
    "import os\n",
    "os.environ['KMP_DUPLICATE_LIB_OK']='True'"
   ]
  },
  {
   "cell_type": "markdown",
   "metadata": {},
   "source": [
    "### 3.7.1. Pre processing\n",
    "In order to feed the data into the Neural Network we need to convert the data into numpy arrays and to make sure that the data range is between 0-1."
   ]
  },
  {
   "cell_type": "code",
   "execution_count": 20,
   "metadata": {},
   "outputs": [
    {
     "name": "stdout",
     "output_type": "stream",
     "text": [
      "\t training data:\t\t (1564, 2727)\n",
      "\t training data type:\t <class 'scipy.sparse.csr.csr_matrix'>\n",
      "\t training labels:\t (1564,)\n",
      "\t training labels type:\t <class 'pandas.core.series.Series'>\n",
      "\t test data:\t\t (392, 2727)\n",
      "\t test data type:\t <class 'scipy.sparse.csr.csr_matrix'>\n",
      "\t test labels:\t\t (392,)\n",
      "\t test lables type:\t <class 'pandas.core.series.Series'>\n"
     ]
    }
   ],
   "source": [
    "print('\\t training data:\\t\\t', x_train_tfidf.shape)\n",
    "print('\\t training data type:\\t', type(x_train_tfidf))\n",
    "print('\\t training labels:\\t', y_train.shape)\n",
    "print('\\t training labels type:\\t', type(y_train))\n",
    "print('\\t test data:\\t\\t', x_test_tfidf.shape)\n",
    "print('\\t test data type:\\t', type(x_test_tfidf))\n",
    "print('\\t test labels:\\t\\t', y_test.shape)\n",
    "print('\\t test lables type:\\t', type(y_test))"
   ]
  },
  {
   "cell_type": "markdown",
   "metadata": {},
   "source": [
    "__Vectorize Data__\n",
    "The above data types are either sparse matrices or pandas series. We need to turn them all into a numpy arrays."
   ]
  },
  {
   "cell_type": "code",
   "execution_count": 21,
   "metadata": {},
   "outputs": [],
   "source": [
    "# Turn data in Numpy Arrays.\n",
    "\n",
    "import numpy as np\n",
    "\n",
    "x_train_dl = x_train_tfidf.toarray() \n",
    "x_test_dl = x_test_tfidf.toarray()\n",
    "y_train_dl = np.asarray(y_train).astype('float32') \n",
    "y_test_dl = np.asarray(y_test).astype('float32') "
   ]
  },
  {
   "cell_type": "markdown",
   "metadata": {},
   "source": [
    "__Normalize Data__\n",
    "We need to make sure that the data takes on the following characteristics in order to avoid triggering large gradient updates\n",
    "> Small values\n",
    "\n",
    "> Be Homogenous"
   ]
  },
  {
   "cell_type": "code",
   "execution_count": 22,
   "metadata": {},
   "outputs": [
    {
     "name": "stdout",
     "output_type": "stream",
     "text": [
      "Pre-Processsing\n",
      "\t training data:\t\t (1564, 2727)\n",
      "\t training data type:\t <class 'numpy.ndarray'>\n",
      "\t training data max val:\t 1.0\n",
      "\t training labels:\t (1564,)\n",
      "\t training labels type:\t <class 'numpy.ndarray'>\n",
      "\t test data:\t\t (392, 2727)\n",
      "\t test data max val:\t 1.0\n",
      "\t test data type:\t <class 'numpy.ndarray'>\n",
      "\t test labels:\t\t (392,)\n",
      "\t test lables type:\t <class 'numpy.ndarray'>\n"
     ]
    }
   ],
   "source": [
    "print('Pre-Processsing')\n",
    "print('\\t training data:\\t\\t', x_train_dl.shape)\n",
    "print('\\t training data type:\\t', type(x_train_dl))\n",
    "print('\\t training data max val:\\t',np.amax(x_train_dl))\n",
    "print('\\t training labels:\\t', y_train_dl.shape)\n",
    "print('\\t training labels type:\\t', type(y_train_dl))\n",
    "print('\\t test data:\\t\\t', x_test_dl.shape)\n",
    "print('\\t test data max val:\\t',np.amax(x_test_dl))\n",
    "print('\\t test data type:\\t', type(x_test_dl))\n",
    "print('\\t test labels:\\t\\t', y_test_dl.shape)\n",
    "print('\\t test lables type:\\t', type(y_test_dl))"
   ]
  },
  {
   "cell_type": "markdown",
   "metadata": {},
   "source": [
    "### 3.7.2. Builidng the Neural Network\n",
    "After the pre-processing we build our neural netowrk. I have chosen a Sequence model. Sequence models are models that take input or out a sequence of data. Sequential data includes text, streams, audio clips, video clips, time-series data etc.  A sequtial model is appropriate for a plain stack of layers where each layer has exactly one input and one output tensor.\n",
    " For sequential models:\n",
    " - We need to do quite a bit of pre-processing on your raw data to be able to feed it – as tensors – into a neural network. I am fortunate enough that I have had the opportunity to pre-process my data into vectorized data for simple text classification which i have processed it further for a neural network.\n",
    "- Stacks of dense layers with __ReLu__ activations can solve a wide range of problems.The Rectified Linear activation function is a piecewise linear function that will output the input directly if it is positive, otherwise, it will output zero.\n",
    "- Ideally, the network should end with a Dense layer with one unit and a __sigmoid__ activation\n",
    "- With a scalar sigmoid output on a binary classification problem, the loss function to use is __binary_crossentropy__. Binary cross entropy compares each of the predicted probabilities to actual class output which can be either 0 or 1. It then calculates the score that penalizes the probabilities based on the distance from the expected value. That means how close or far from the actual value.\n",
    "- The rmsprop optimiser is generally a good enough choice. Optimisation refers to the process of adjusting a model to get the best performance possible on the training data.This is done through stochastic gradient decent. rmsprop is an optimisation algorithim which uses the sign of the gradient and adapting the step size individualy for each weight.\n",
    "- As neural networks start gettign used (optimising) to the training data they start to overfit. The challenge is to find the best parameters before the overfitting occurs. To do this we need to monitor performance. \n",
    "\n",
    "The initial values of the hyper-parameters except for the Input Shape are completely random with no intention than to start the algorithm."
   ]
  },
  {
   "cell_type": "code",
   "execution_count": 23,
   "metadata": {},
   "outputs": [],
   "source": [
    "# build\n",
    "\n",
    "from tensorflow.keras import models\n",
    "from tensorflow.keras import layers\n",
    "\n",
    "model = models.Sequential()\n",
    "\n",
    "model.add(layers.Dense(16, activation = 'relu', input_shape = (2727,)))\n",
    "model.add(layers.Dense(16, activation = 'relu'))\n",
    "model.add(layers.Dense(1, activation = 'sigmoid'))\n",
    "\n",
    "model.compile(optimizer='rmsprop',\n",
    "             loss='binary_crossentropy',\n",
    "             metrics=['accuracy'])"
   ]
  },
  {
   "cell_type": "markdown",
   "metadata": {},
   "source": [
    "### 3.7.3. Train and Validation Technique\n",
    "As mentioned above, one of the challenges with machine learning is overfitting. Due to this we do not train and test on the same data set is overfitting. After are few epochs the data becomes overtrained and performance on never before seen data drops. I am interested in the point in which overfitting starts to occure. To do this I will proceed to perform Validation on the dataset to search for the optimal Epoch.\n",
    "\n",
    "Evaluating a model in this manner involves splitting the available data into three sets:\n",
    "1.\tTraining \n",
    "2.\tValidation\n",
    "3.\tTest\n",
    "You train on training data and evaluate your model on the validation data. Once the model is ready you test it one final time on the test data.\n",
    "\n",
    "__Courtesy of the book Deep Learning with Python:__\n",
    "\n",
    "Central to this phenomenon is the notion of information leaks. Every time I tune a hyperparameter of the model based on the model’s performance on the validation set, some information about the validation data leaks into the model. If I do this only once, for one parameter, then very few bits of information will leak, and the validation set will remain reliable to evaluate the model. But if you repeat this many times—running one experiment, evaluating on the validation set, and modifying your model as a result—then you’ll leak an increasingly significant amount of information about the validation set into the model.\n",
    "\n",
    "At the end of the day, I’ll end up with a model that performs artificially well on the validation data, because that’s what I optimized it for. I care about performance on completely new data, not the validation data, so I need to use a completely different, never-before-seen dataset to evaluate the model: the test dataset. My model shouldn’t have had access to any information about the test set, even indirectly. If anything about the model has been tuned based on test set performance, then my measure for generalization will be flawed.\n",
    "\n",
    "\n",
    "\n",
    "The overall data has been split along 80/20. This is a reasonble rule of thumb. To split the data further between train and validate we will continue with the same approach of 80/20. There are 1564 samples in the training data we shall split them 80/20 or rather 1252 train / 312 validate."
   ]
  },
  {
   "cell_type": "code",
   "execution_count": 24,
   "metadata": {},
   "outputs": [
    {
     "name": "stdout",
     "output_type": "stream",
     "text": [
      "Train on 1252 samples, validate on 312 samples\n",
      "Epoch 1/20\n",
      "1252/1252 [==============================] - 2s 2ms/sample - loss: 0.6918 - accuracy: 0.5839 - val_loss: 0.6882 - val_accuracy: 0.6667\n",
      "Epoch 2/20\n",
      "1252/1252 [==============================] - 0s 94us/sample - loss: 0.6863 - accuracy: 0.7236 - val_loss: 0.6830 - val_accuracy: 0.7019\n",
      "Epoch 3/20\n",
      "1252/1252 [==============================] - 0s 92us/sample - loss: 0.6797 - accuracy: 0.7963 - val_loss: 0.6762 - val_accuracy: 0.7660\n",
      "Epoch 4/20\n",
      "1252/1252 [==============================] - 0s 90us/sample - loss: 0.6716 - accuracy: 0.8714 - val_loss: 0.6684 - val_accuracy: 0.8718\n",
      "Epoch 5/20\n",
      "1252/1252 [==============================] - 0s 86us/sample - loss: 0.6625 - accuracy: 0.9257 - val_loss: 0.6603 - val_accuracy: 0.8910\n",
      "Epoch 6/20\n",
      "1252/1252 [==============================] - 0s 80us/sample - loss: 0.6528 - accuracy: 0.9457 - val_loss: 0.6522 - val_accuracy: 0.8814\n",
      "Epoch 7/20\n",
      "1252/1252 [==============================] - 0s 78us/sample - loss: 0.6429 - accuracy: 0.9417 - val_loss: 0.6438 - val_accuracy: 0.8974\n",
      "Epoch 8/20\n",
      "1252/1252 [==============================] - 0s 76us/sample - loss: 0.6327 - accuracy: 0.9417 - val_loss: 0.6353 - val_accuracy: 0.8974\n",
      "Epoch 9/20\n",
      "1252/1252 [==============================] - 0s 81us/sample - loss: 0.6221 - accuracy: 0.9441 - val_loss: 0.6265 - val_accuracy: 0.9006\n",
      "Epoch 10/20\n",
      "1252/1252 [==============================] - 0s 77us/sample - loss: 0.6112 - accuracy: 0.9457 - val_loss: 0.6172 - val_accuracy: 0.9135\n",
      "Epoch 11/20\n",
      "1252/1252 [==============================] - 0s 81us/sample - loss: 0.5997 - accuracy: 0.9449 - val_loss: 0.6077 - val_accuracy: 0.9103\n",
      "Epoch 12/20\n",
      "1252/1252 [==============================] - 0s 88us/sample - loss: 0.5880 - accuracy: 0.9457 - val_loss: 0.5982 - val_accuracy: 0.9167\n",
      "Epoch 13/20\n",
      "1252/1252 [==============================] - 0s 102us/sample - loss: 0.5763 - accuracy: 0.9473 - val_loss: 0.5886 - val_accuracy: 0.9135\n",
      "Epoch 14/20\n",
      "1252/1252 [==============================] - 0s 84us/sample - loss: 0.5639 - accuracy: 0.9481 - val_loss: 0.5784 - val_accuracy: 0.9103\n",
      "Epoch 15/20\n",
      "1252/1252 [==============================] - 0s 78us/sample - loss: 0.5513 - accuracy: 0.9473 - val_loss: 0.5680 - val_accuracy: 0.9103\n",
      "Epoch 16/20\n",
      "1252/1252 [==============================] - 0s 71us/sample - loss: 0.5384 - accuracy: 0.9513 - val_loss: 0.5574 - val_accuracy: 0.9135\n",
      "Epoch 17/20\n",
      "1252/1252 [==============================] - 0s 82us/sample - loss: 0.5252 - accuracy: 0.9505 - val_loss: 0.5469 - val_accuracy: 0.9135\n",
      "Epoch 18/20\n",
      "1252/1252 [==============================] - 0s 78us/sample - loss: 0.5120 - accuracy: 0.9521 - val_loss: 0.5363 - val_accuracy: 0.9103\n",
      "Epoch 19/20\n",
      "1252/1252 [==============================] - 0s 85us/sample - loss: 0.4985 - accuracy: 0.9545 - val_loss: 0.5253 - val_accuracy: 0.9103\n",
      "Epoch 20/20\n",
      "1252/1252 [==============================] - 0s 101us/sample - loss: 0.4848 - accuracy: 0.9545 - val_loss: 0.5144 - val_accuracy: 0.9103\n"
     ]
    }
   ],
   "source": [
    "# Train and Validate\n",
    "\n",
    "x_val = x_train_dl[:312]\n",
    "partial_x_train = x_train_dl[312:]\n",
    "y_val = y_train_dl[:312]\n",
    "partial_y_train = y_train_dl[312:]\n",
    "\n",
    "history = model.fit(partial_x_train, \n",
    "                    partial_y_train,\n",
    "                    epochs = 20,\n",
    "                    batch_size = 512,\n",
    "                    validation_data = (x_val, y_val)) "
   ]
  },
  {
   "cell_type": "code",
   "execution_count": 25,
   "metadata": {},
   "outputs": [
    {
     "data": {
      "text/plain": [
       "dict_keys(['loss', 'accuracy', 'val_loss', 'val_accuracy'])"
      ]
     },
     "execution_count": 25,
     "metadata": {},
     "output_type": "execute_result"
    }
   ],
   "source": [
    "history_dict = history.history\n",
    "history_dict.keys()"
   ]
  },
  {
   "cell_type": "code",
   "execution_count": 26,
   "metadata": {},
   "outputs": [
    {
     "data": {
      "text/plain": [
       "[0.691750283058459,\n",
       " 0.6862659833301752,\n",
       " 0.6797209052612987,\n",
       " 0.6715777247858504,\n",
       " 0.6624817248350515,\n",
       " 0.6528380631257932,\n",
       " 0.6429184492403707,\n",
       " 0.632700645314238,\n",
       " 0.6221226577560741,\n",
       " 0.611170971165069,\n",
       " 0.5997248627126407,\n",
       " 0.5880118534206963,\n",
       " 0.5762534613807362,\n",
       " 0.5639252803577021,\n",
       " 0.5513429664575253,\n",
       " 0.5383833345894615,\n",
       " 0.5251993723570729,\n",
       " 0.5119688206206495,\n",
       " 0.49848427825842423,\n",
       " 0.4848473658576941]"
      ]
     },
     "execution_count": 26,
     "metadata": {},
     "output_type": "execute_result"
    }
   ],
   "source": [
    "history_dict['loss']"
   ]
  },
  {
   "cell_type": "code",
   "execution_count": 27,
   "metadata": {},
   "outputs": [
    {
     "data": {
      "image/png": "[encoded data removed]",
      "text/plain": [
       "<Figure size 432x288 with 1 Axes>"
      ]
     },
     "metadata": {
      "needs_background": "light"
     },
     "output_type": "display_data"
    }
   ],
   "source": [
    "import matplotlib.pyplot as plt\n",
    "    \n",
    "loss = history_dict['loss']\n",
    "val_loss = history_dict['val_loss']\n",
    "\n",
    "epochs = range(1, len(loss) + 1)\n",
    "\n",
    "blue_dots = 'bo'\n",
    "solid_blue_line = 'b'\n",
    "\n",
    "plt.plot(epochs, loss, blue_dots, label = 'Training loss')\n",
    "plt.plot(epochs, val_loss, solid_blue_line, label = 'Validation loss')\n",
    "plt.title('Training and validation loss')\n",
    "plt.xlabel('Epochs')\n",
    "plt.ylabel('Loss')\n",
    "plt.legend()\n",
    "\n",
    "plt.show()"
   ]
  },
  {
   "cell_type": "markdown",
   "metadata": {},
   "source": [
    "I trully am not sure of what to makes of this chart. It seems that as the model starts overfitting quite early, at maybe 5 epochs."
   ]
  },
  {
   "cell_type": "code",
   "execution_count": 28,
   "metadata": {},
   "outputs": [
    {
     "data": {
      "text/plain": [
       "[0.5838658,\n",
       " 0.7236422,\n",
       " 0.79632586,\n",
       " 0.8714058,\n",
       " 0.92571884,\n",
       " 0.9456869,\n",
       " 0.9416933,\n",
       " 0.9416933,\n",
       " 0.9440895,\n",
       " 0.9456869,\n",
       " 0.9448882,\n",
       " 0.9456869,\n",
       " 0.94728434,\n",
       " 0.94808304,\n",
       " 0.94728434,\n",
       " 0.951278,\n",
       " 0.9504792,\n",
       " 0.9520767,\n",
       " 0.95447284,\n",
       " 0.95447284]"
      ]
     },
     "execution_count": 28,
     "metadata": {},
     "output_type": "execute_result"
    }
   ],
   "source": [
    "history_dict['accuracy']"
   ]
  },
  {
   "cell_type": "code",
   "execution_count": 29,
   "metadata": {},
   "outputs": [
    {
     "data": {
      "image/png": "[encoded data removed]",
      "text/plain": [
       "<Figure size 432x288 with 1 Axes>"
      ]
     },
     "metadata": {
      "needs_background": "light"
     },
     "output_type": "display_data"
    }
   ],
   "source": [
    "plt.clf()\n",
    "\n",
    "acc = history_dict['accuracy']\n",
    "val_acc = history_dict['val_accuracy']\n",
    "    \n",
    "epochs = range(1, len(acc) + 1)\n",
    "\n",
    "blue_dots = 'bo'\n",
    "solid_blue_line = 'b'\n",
    "    \n",
    "plt.plot(epochs, acc, blue_dots, label = 'Training acc')\n",
    "plt.plot(epochs, val_acc, solid_blue_line, label = 'Validation acc')\n",
    "plt.title('Training and validation acc')\n",
    "plt.xlabel('Epochs')\n",
    "plt.ylabel('Accuracy')\n",
    "plt.legend()\n",
    "\n",
    "plt.show()"
   ]
  },
  {
   "cell_type": "markdown",
   "metadata": {},
   "source": [
    "Same with this seems it starts overfiting quite early too with the accuracy of the training data falling. This may have something to do with the size of the dataset."
   ]
  },
  {
   "cell_type": "code",
   "execution_count": 30,
   "metadata": {},
   "outputs": [
    {
     "name": "stdout",
     "output_type": "stream",
     "text": [
      "Train on 1564 samples\n",
      "Epoch 1/10\n",
      "1564/1564 [==============================] - 1s 759us/sample - loss: 0.6900 - accuracy: 0.5767\n",
      "Epoch 2/10\n",
      "1564/1564 [==============================] - 0s 31us/sample - loss: 0.6790 - accuracy: 0.6113\n",
      "Epoch 3/10\n",
      "1564/1564 [==============================] - 0s 34us/sample - loss: 0.6655 - accuracy: 0.6957\n",
      "Epoch 4/10\n",
      "1564/1564 [==============================] - 0s 31us/sample - loss: 0.6506 - accuracy: 0.8120\n",
      "Epoch 5/10\n",
      "1564/1564 [==============================] - 0s 23us/sample - loss: 0.6351 - accuracy: 0.8523\n",
      "Epoch 6/10\n",
      "1564/1564 [==============================] - 0s 32us/sample - loss: 0.6197 - accuracy: 0.8715\n",
      "Epoch 7/10\n",
      "1564/1564 [==============================] - 0s 24us/sample - loss: 0.6048 - accuracy: 0.8894\n",
      "Epoch 8/10\n",
      "1564/1564 [==============================] - 0s 26us/sample - loss: 0.5896 - accuracy: 0.9073\n",
      "Epoch 9/10\n",
      "1564/1564 [==============================] - 0s 27us/sample - loss: 0.5739 - accuracy: 0.9290\n",
      "Epoch 10/10\n",
      "1564/1564 [==============================] - 0s 26us/sample - loss: 0.5584 - accuracy: 0.9303\n",
      "392/1 [================================================================================================================================================================================================================================================================================================================================================================================================================================================================================================================================================================================================================================================================================================================================================================================================================================================================================================================================================================================================================================================================================================================================================================================================================================================================================================================================================================================================================================================================================================================================================================================================================================================================================================================================================================================================================================================================================================================================================================================================================================================================================================================================================================================================================================================================================================================================================================================================================================================================================================================================================================================================================================================================================================================================================================================================================================================================================================================================================================================================================================================================================================================================================================================================================================================================================================================================================================================================================================================================================================================================================================================================================================================================================================================================================================================================================================================================================================================================================================================================================================================================================================================================================================================================================================================================================================================================================================================================================================================================================================================================================================================================================================================================================================================================================================================================================================================================================================================================================================================================================================================================================================================================================================================================================================================================================================================================================================================================================================================================================================================================================================================================================================================================================================================================================================================================================================================================================================================================================================================================================================================================================================================================================================================================================================================================================================================================================================================================================================================================================================================================================================================================================================================================================================================================================================================================================================================================================================================================================================================================================================================================================================================================================================================================================================================================================================================================================================================================================================================================================================================================================================================================================================================================================================================================================================================================================================================================================================================================================================================================================================================================================================================================================================================================================================================================================================================================================================================================================================================================================================================================================================================================================================================================================================================================================================================================================================================================================================================================================================================================================================================================================================================================================================================================================================================================================================================================================================================================================================================================================================================================================================================================================================================================================================================================================================================================================================================================================================================================================================================================================================================================================================================================================================================================================================================================================================================================================================================================================================================================================================================================================================================================================================================================================================================================================================================================================================================================================================================================================================================================================================================================================================================================================================================================================================================================================================================================================================================================================================================================================================================================================================================================================================================================================================================================================================================================================================================================================================================================================================================================================================================================================================================================================================================================================================================] - 0s 533us/sample - loss: 0.6047 - accuracy: 0.8546\n"
     ]
    },
    {
     "data": {
      "text/plain": [
       "[0.5708209811424723, 0.85459185]"
      ]
     },
     "execution_count": 30,
     "metadata": {},
     "output_type": "execute_result"
    }
   ],
   "source": [
    "model = models.Sequential()\n",
    "model.add(layers.Dense(16, activation = 'relu', input_shape = (2727,)))\n",
    "model.add(layers.Dense(16, activation = 'relu'))\n",
    "model.add(layers.Dense(1, activation = 'sigmoid'))\n",
    "\n",
    "model.compile(optimizer = 'rmsprop',\n",
    "             loss = 'binary_crossentropy',\n",
    "             metrics = ['accuracy'])\n",
    "\n",
    "model.fit(x_train_dl, y_train_dl, epochs = 10, batch_size = 512)\n",
    "\n",
    "results_dl_val = model.evaluate(x_test_dl, y_test_dl)\n",
    "\n",
    "results_dl_val"
   ]
  },
  {
   "cell_type": "code",
   "execution_count": 31,
   "metadata": {},
   "outputs": [],
   "source": [
    "# Build Model 2 with hire Capacity\n",
    "\n",
    "model_2 = models.Sequential()\n",
    "\n",
    "model_2.add(layers.Dense(32, activation = 'relu', input_shape = (2727,)))\n",
    "model_2.add(layers.Dense(32, activation = 'relu'))\n",
    "model_2.add(layers.Dense(1, activation = 'sigmoid'))\n",
    "\n",
    "model_2.compile(optimizer='rmsprop',\n",
    "             loss='binary_crossentropy',\n",
    "             metrics=['accuracy'])"
   ]
  },
  {
   "cell_type": "code",
   "execution_count": 32,
   "metadata": {},
   "outputs": [
    {
     "name": "stdout",
     "output_type": "stream",
     "text": [
      "Train on 1252 samples, validate on 312 samples\n",
      "Epoch 1/20\n",
      "1252/1252 [==============================] - 1s 1ms/sample - loss: 0.6904 - accuracy: 0.5431 - val_loss: 0.6845 - val_accuracy: 0.6795\n",
      "Epoch 2/20\n",
      "1252/1252 [==============================] - 0s 76us/sample - loss: 0.6784 - accuracy: 0.7492 - val_loss: 0.6734 - val_accuracy: 0.7500\n",
      "Epoch 3/20\n",
      "1252/1252 [==============================] - 0s 81us/sample - loss: 0.6632 - accuracy: 0.8171 - val_loss: 0.6586 - val_accuracy: 0.8590\n",
      "Epoch 4/20\n",
      "1252/1252 [==============================] - 0s 93us/sample - loss: 0.6440 - accuracy: 0.8914 - val_loss: 0.6411 - val_accuracy: 0.8686\n",
      "Epoch 5/20\n",
      "1252/1252 [==============================] - 0s 78us/sample - loss: 0.6220 - accuracy: 0.9073 - val_loss: 0.6220 - val_accuracy: 0.8814\n",
      "Epoch 6/20\n",
      "1252/1252 [==============================] - 0s 78us/sample - loss: 0.5978 - accuracy: 0.9169 - val_loss: 0.6014 - val_accuracy: 0.8910\n",
      "Epoch 7/20\n",
      "1252/1252 [==============================] - 0s 83us/sample - loss: 0.5722 - accuracy: 0.9281 - val_loss: 0.5804 - val_accuracy: 0.8942\n",
      "Epoch 8/20\n",
      "1252/1252 [==============================] - 0s 103us/sample - loss: 0.5459 - accuracy: 0.9345 - val_loss: 0.5596 - val_accuracy: 0.9071\n",
      "Epoch 9/20\n",
      "1252/1252 [==============================] - 0s 113us/sample - loss: 0.5192 - accuracy: 0.9401 - val_loss: 0.5378 - val_accuracy: 0.9006\n",
      "Epoch 10/20\n",
      "1252/1252 [==============================] - 0s 105us/sample - loss: 0.4926 - accuracy: 0.9377 - val_loss: 0.5168 - val_accuracy: 0.9071\n",
      "Epoch 11/20\n",
      "1252/1252 [==============================] - 0s 103us/sample - loss: 0.4660 - accuracy: 0.9425 - val_loss: 0.4965 - val_accuracy: 0.9103\n",
      "Epoch 12/20\n",
      "1252/1252 [==============================] - 0s 103us/sample - loss: 0.4403 - accuracy: 0.9473 - val_loss: 0.4759 - val_accuracy: 0.9103\n",
      "Epoch 13/20\n",
      "1252/1252 [==============================] - 0s 84us/sample - loss: 0.4152 - accuracy: 0.9457 - val_loss: 0.4569 - val_accuracy: 0.9103\n",
      "Epoch 14/20\n",
      "1252/1252 [==============================] - 0s 82us/sample - loss: 0.3909 - accuracy: 0.9481 - val_loss: 0.4381 - val_accuracy: 0.9135\n",
      "Epoch 15/20\n",
      "1252/1252 [==============================] - 0s 81us/sample - loss: 0.3678 - accuracy: 0.9489 - val_loss: 0.4204 - val_accuracy: 0.9103\n",
      "Epoch 16/20\n",
      "1252/1252 [==============================] - 0s 81us/sample - loss: 0.3455 - accuracy: 0.9513 - val_loss: 0.4033 - val_accuracy: 0.9103\n",
      "Epoch 17/20\n",
      "1252/1252 [==============================] - 0s 92us/sample - loss: 0.3242 - accuracy: 0.9513 - val_loss: 0.3872 - val_accuracy: 0.9103\n",
      "Epoch 18/20\n",
      "1252/1252 [==============================] - 0s 80us/sample - loss: 0.3040 - accuracy: 0.9529 - val_loss: 0.3719 - val_accuracy: 0.9071\n",
      "Epoch 19/20\n",
      "1252/1252 [==============================] - 0s 83us/sample - loss: 0.2850 - accuracy: 0.9537 - val_loss: 0.3581 - val_accuracy: 0.9103\n",
      "Epoch 20/20\n",
      "1252/1252 [==============================] - 0s 79us/sample - loss: 0.2672 - accuracy: 0.9545 - val_loss: 0.3453 - val_accuracy: 0.9135\n"
     ]
    }
   ],
   "source": [
    "# Train and Validate for Model 2\n",
    "\n",
    "history_2 = model_2.fit(partial_x_train, \n",
    "                    partial_y_train,\n",
    "                    epochs = 20,\n",
    "                    batch_size = 512,\n",
    "                    validation_data = (x_val, y_val)) "
   ]
  },
  {
   "cell_type": "code",
   "execution_count": 33,
   "metadata": {},
   "outputs": [
    {
     "data": {
      "text/plain": [
       "dict_keys(['loss', 'accuracy', 'val_loss', 'val_accuracy'])"
      ]
     },
     "execution_count": 33,
     "metadata": {},
     "output_type": "execute_result"
    }
   ],
   "source": [
    "history_dict_2 = history_2.history\n",
    "history_dict_2.keys()"
   ]
  },
  {
   "cell_type": "code",
   "execution_count": 34,
   "metadata": {},
   "outputs": [
    {
     "data": {
      "text/plain": [
       "[0.690373136593511,\n",
       " 0.6783780964037862,\n",
       " 0.6631548252349464,\n",
       " 0.6440442404427087,\n",
       " 0.621981432262701,\n",
       " 0.5977887056125238,\n",
       " 0.57217389268997,\n",
       " 0.5458656549453735,\n",
       " 0.519233012351746,\n",
       " 0.49261175795865897,\n",
       " 0.465988437207743,\n",
       " 0.44029746545008575,\n",
       " 0.41519121373423373,\n",
       " 0.39089983758834984,\n",
       " 0.3678001170150769,\n",
       " 0.34546194565943633,\n",
       " 0.3242037839973316,\n",
       " 0.3040447914943147,\n",
       " 0.28500945194841576,\n",
       " 0.267187742665172]"
      ]
     },
     "execution_count": 34,
     "metadata": {},
     "output_type": "execute_result"
    }
   ],
   "source": [
    "history_dict_2['loss']"
   ]
  },
  {
   "cell_type": "code",
   "execution_count": 35,
   "metadata": {},
   "outputs": [
    {
     "data": {
      "image/png": "[encoded data removed]",
      "text/plain": [
       "<Figure size 432x288 with 1 Axes>"
      ]
     },
     "metadata": {
      "needs_background": "light"
     },
     "output_type": "display_data"
    }
   ],
   "source": [
    "loss = history_dict_2['loss']\n",
    "val_loss = history_dict_2['val_loss']\n",
    "\n",
    "epochs = range(1, len(loss) + 1)\n",
    "\n",
    "blue_dots = 'bo'\n",
    "solid_blue_line = 'b'\n",
    "\n",
    "plt.plot(epochs, loss, blue_dots, label = 'Training loss')\n",
    "plt.plot(epochs, val_loss, solid_blue_line, label = 'Validation loss')\n",
    "plt.title('Training and validation loss')\n",
    "plt.xlabel('Epochs')\n",
    "plt.ylabel('Loss')\n",
    "plt.legend()\n",
    "\n",
    "plt.show()"
   ]
  },
  {
   "cell_type": "code",
   "execution_count": 36,
   "metadata": {},
   "outputs": [
    {
     "data": {
      "text/plain": [
       "[0.543131,\n",
       " 0.7492013,\n",
       " 0.81709266,\n",
       " 0.8913738,\n",
       " 0.9073482,\n",
       " 0.9169329,\n",
       " 0.928115,\n",
       " 0.9345048,\n",
       " 0.94009584,\n",
       " 0.9376997,\n",
       " 0.942492,\n",
       " 0.94728434,\n",
       " 0.9456869,\n",
       " 0.94808304,\n",
       " 0.9488818,\n",
       " 0.951278,\n",
       " 0.951278,\n",
       " 0.9528754,\n",
       " 0.95367414,\n",
       " 0.95447284]"
      ]
     },
     "execution_count": 36,
     "metadata": {},
     "output_type": "execute_result"
    }
   ],
   "source": [
    "history_dict_2['accuracy']"
   ]
  },
  {
   "cell_type": "code",
   "execution_count": 37,
   "metadata": {},
   "outputs": [
    {
     "data": {
      "image/png": "[encoded data removed]",
      "text/plain": [
       "<Figure size 432x288 with 1 Axes>"
      ]
     },
     "metadata": {
      "needs_background": "light"
     },
     "output_type": "display_data"
    }
   ],
   "source": [
    "plt.clf()\n",
    "\n",
    "acc = history_dict_2['accuracy']\n",
    "val_acc = history_dict_2['val_accuracy']\n",
    "    \n",
    "epochs = range(1, len(acc) + 1)\n",
    "\n",
    "blue_dots = 'bo'\n",
    "solid_blue_line = 'b'\n",
    "    \n",
    "plt.plot(epochs, acc, blue_dots, label = 'Training acc')\n",
    "plt.plot(epochs, val_acc, solid_blue_line, label = 'Validation acc')\n",
    "plt.title('Training and validation acc')\n",
    "plt.xlabel('Epochs')\n",
    "plt.ylabel('Accuracy')\n",
    "plt.legend()\n",
    "\n",
    "plt.show()"
   ]
  },
  {
   "cell_type": "code",
   "execution_count": 38,
   "metadata": {},
   "outputs": [],
   "source": [
    "# Build Model 3 with hire Capacity\n",
    "\n",
    "model_3 = models.Sequential()\n",
    "\n",
    "model_3.add(layers.Dense(64, activation = 'relu', input_shape = (2727,)))\n",
    "model_3.add(layers.Dense(64, activation = 'relu'))\n",
    "model_3.add(layers.Dense(1, activation = 'sigmoid'))\n",
    "\n",
    "model_3.compile(optimizer='rmsprop',\n",
    "             loss='binary_crossentropy',\n",
    "             metrics=['accuracy'])"
   ]
  },
  {
   "cell_type": "code",
   "execution_count": 39,
   "metadata": {},
   "outputs": [
    {
     "name": "stdout",
     "output_type": "stream",
     "text": [
      "Train on 1252 samples, validate on 312 samples\n",
      "Epoch 1/20\n",
      "1252/1252 [==============================] - 1s 1ms/sample - loss: 0.6897 - accuracy: 0.5327 - val_loss: 0.6795 - val_accuracy: 0.8365\n",
      "Epoch 2/20\n",
      "1252/1252 [==============================] - 0s 112us/sample - loss: 0.6709 - accuracy: 0.8850 - val_loss: 0.6575 - val_accuracy: 0.8910\n",
      "Epoch 3/20\n",
      "1252/1252 [==============================] - 0s 150us/sample - loss: 0.6424 - accuracy: 0.9145 - val_loss: 0.6288 - val_accuracy: 0.8974\n",
      "Epoch 4/20\n",
      "1252/1252 [==============================] - 0s 130us/sample - loss: 0.6060 - accuracy: 0.9193 - val_loss: 0.5951 - val_accuracy: 0.9006\n",
      "Epoch 5/20\n",
      "1252/1252 [==============================] - 0s 136us/sample - loss: 0.5638 - accuracy: 0.9297 - val_loss: 0.5593 - val_accuracy: 0.9038\n",
      "Epoch 6/20\n",
      "1252/1252 [==============================] - 0s 251us/sample - loss: 0.5194 - accuracy: 0.9393 - val_loss: 0.5228 - val_accuracy: 0.9071\n",
      "Epoch 7/20\n",
      "1252/1252 [==============================] - 0s 187us/sample - loss: 0.4747 - accuracy: 0.9385 - val_loss: 0.4879 - val_accuracy: 0.9038\n",
      "Epoch 8/20\n",
      "1252/1252 [==============================] - 0s 236us/sample - loss: 0.4311 - accuracy: 0.9473 - val_loss: 0.4534 - val_accuracy: 0.9135\n",
      "Epoch 9/20\n",
      "1252/1252 [==============================] - 0s 211us/sample - loss: 0.3900 - accuracy: 0.9473 - val_loss: 0.4221 - val_accuracy: 0.9038\n",
      "Epoch 10/20\n",
      "1252/1252 [==============================] - 0s 134us/sample - loss: 0.3516 - accuracy: 0.9481 - val_loss: 0.3936 - val_accuracy: 0.9006\n",
      "Epoch 11/20\n",
      "1252/1252 [==============================] - 0s 106us/sample - loss: 0.3167 - accuracy: 0.9497 - val_loss: 0.3705 - val_accuracy: 0.8974\n",
      "Epoch 12/20\n",
      "1252/1252 [==============================] - 0s 84us/sample - loss: 0.2859 - accuracy: 0.9545 - val_loss: 0.3463 - val_accuracy: 0.9071\n",
      "Epoch 13/20\n",
      "1252/1252 [==============================] - 0s 92us/sample - loss: 0.2581 - accuracy: 0.9521 - val_loss: 0.3264 - val_accuracy: 0.9038\n",
      "Epoch 14/20\n",
      "1252/1252 [==============================] - 0s 90us/sample - loss: 0.2326 - accuracy: 0.9545 - val_loss: 0.3111 - val_accuracy: 0.9006\n",
      "Epoch 15/20\n",
      "1252/1252 [==============================] - 0s 84us/sample - loss: 0.2102 - accuracy: 0.9593 - val_loss: 0.2937 - val_accuracy: 0.9071\n",
      "Epoch 16/20\n",
      "1252/1252 [==============================] - 0s 87us/sample - loss: 0.1903 - accuracy: 0.9593 - val_loss: 0.2807 - val_accuracy: 0.9006\n",
      "Epoch 17/20\n",
      "1252/1252 [==============================] - 0s 87us/sample - loss: 0.1724 - accuracy: 0.9617 - val_loss: 0.2691 - val_accuracy: 0.8974\n",
      "Epoch 18/20\n",
      "1252/1252 [==============================] - 0s 90us/sample - loss: 0.1569 - accuracy: 0.9633 - val_loss: 0.2593 - val_accuracy: 0.9006\n",
      "Epoch 19/20\n",
      "1252/1252 [==============================] - 0s 88us/sample - loss: 0.1430 - accuracy: 0.9649 - val_loss: 0.2526 - val_accuracy: 0.8974\n",
      "Epoch 20/20\n",
      "1252/1252 [==============================] - 0s 95us/sample - loss: 0.1309 - accuracy: 0.9657 - val_loss: 0.2452 - val_accuracy: 0.8974\n"
     ]
    }
   ],
   "source": [
    "# Train and Validate for Model 2\n",
    "\n",
    "history_3 = model_3.fit(partial_x_train, \n",
    "                    partial_y_train,\n",
    "                    epochs = 20,\n",
    "                    batch_size = 512,\n",
    "                    validation_data = (x_val, y_val)) "
   ]
  },
  {
   "cell_type": "code",
   "execution_count": 40,
   "metadata": {},
   "outputs": [
    {
     "data": {
      "text/plain": [
       "dict_keys(['loss', 'accuracy', 'val_loss', 'val_accuracy'])"
      ]
     },
     "execution_count": 40,
     "metadata": {},
     "output_type": "execute_result"
    }
   ],
   "source": [
    "history_dict_3 = history_3.history\n",
    "history_dict_3.keys()"
   ]
  },
  {
   "cell_type": "code",
   "execution_count": 41,
   "metadata": {},
   "outputs": [
    {
     "data": {
      "text/plain": [
       "[0.6897259830666808,\n",
       " 0.6708736579639082,\n",
       " 0.6424419308622805,\n",
       " 0.6059815744622447,\n",
       " 0.5637904279909957,\n",
       " 0.5194402388490427,\n",
       " 0.4746981966800202,\n",
       " 0.43106612210837414,\n",
       " 0.3899949514827789,\n",
       " 0.35160625418915914,\n",
       " 0.31671696882278394,\n",
       " 0.2859380652729315,\n",
       " 0.25811681979761336,\n",
       " 0.23258067224734127,\n",
       " 0.21021274969981502,\n",
       " 0.19028322927106303,\n",
       " 0.172369350497715,\n",
       " 0.1568659036018597,\n",
       " 0.14304454586566828,\n",
       " 0.13089273303461532]"
      ]
     },
     "execution_count": 41,
     "metadata": {},
     "output_type": "execute_result"
    }
   ],
   "source": [
    "history_dict_3['loss']"
   ]
  },
  {
   "cell_type": "code",
   "execution_count": 42,
   "metadata": {},
   "outputs": [
    {
     "data": {
      "image/png": "[encoded data removed]",
      "text/plain": [
       "<Figure size 432x288 with 1 Axes>"
      ]
     },
     "metadata": {
      "needs_background": "light"
     },
     "output_type": "display_data"
    }
   ],
   "source": [
    "loss = history_dict_3['loss']\n",
    "val_loss = history_dict_3['val_loss']\n",
    "\n",
    "epochs = range(1, len(loss) + 1)\n",
    "\n",
    "blue_dots = 'bo'\n",
    "solid_blue_line = 'b'\n",
    "\n",
    "plt.plot(epochs, loss, blue_dots, label = 'Training loss')\n",
    "plt.plot(epochs, val_loss, solid_blue_line, label = 'Validation loss')\n",
    "plt.title('Training and validation loss')\n",
    "plt.xlabel('Epochs')\n",
    "plt.ylabel('Loss')\n",
    "plt.legend()\n",
    "\n",
    "plt.show()"
   ]
  },
  {
   "cell_type": "code",
   "execution_count": 43,
   "metadata": {},
   "outputs": [
    {
     "data": {
      "text/plain": [
       "[0.5327476,\n",
       " 0.884984,\n",
       " 0.9145367,\n",
       " 0.91932905,\n",
       " 0.9297125,\n",
       " 0.93929714,\n",
       " 0.9384984,\n",
       " 0.94728434,\n",
       " 0.94728434,\n",
       " 0.94808304,\n",
       " 0.9496805,\n",
       " 0.95447284,\n",
       " 0.9520767,\n",
       " 0.95447284,\n",
       " 0.9592652,\n",
       " 0.9592652,\n",
       " 0.96166134,\n",
       " 0.9632588,\n",
       " 0.9648562,\n",
       " 0.96565497]"
      ]
     },
     "execution_count": 43,
     "metadata": {},
     "output_type": "execute_result"
    }
   ],
   "source": [
    "history_dict_3['accuracy']"
   ]
  },
  {
   "cell_type": "code",
   "execution_count": 44,
   "metadata": {},
   "outputs": [
    {
     "data": {
      "image/png": "[encoded data removed]",
      "text/plain": [
       "<Figure size 432x288 with 1 Axes>"
      ]
     },
     "metadata": {
      "needs_background": "light"
     },
     "output_type": "display_data"
    }
   ],
   "source": [
    "plt.clf()\n",
    "\n",
    "acc = history_dict_3['accuracy']\n",
    "val_acc = history_dict_3['val_accuracy']\n",
    "    \n",
    "epochs = range(1, len(acc) + 1)\n",
    "\n",
    "blue_dots = 'bo'\n",
    "solid_blue_line = 'b'\n",
    "    \n",
    "plt.plot(epochs, acc, blue_dots, label = 'Training acc')\n",
    "plt.plot(epochs, val_acc, solid_blue_line, label = 'Validation acc')\n",
    "plt.title('Training and validation acc')\n",
    "plt.xlabel('Epochs')\n",
    "plt.ylabel('Accuracy')\n",
    "plt.legend()\n",
    "\n",
    "plt.show()"
   ]
  },
  {
   "cell_type": "code",
   "execution_count": 45,
   "metadata": {},
   "outputs": [],
   "source": [
    "# Build Model 4 with hire Capacity\n",
    "\n",
    "model_4 = models.Sequential()\n",
    "\n",
    "model_4.add(layers.Dense(256, activation = 'relu', input_shape = (2727,)))\n",
    "model_4.add(layers.Dense(256, activation = 'relu'))\n",
    "model_4.add(layers.Dense(1, activation = 'sigmoid'))\n",
    "\n",
    "model_4.compile(optimizer='rmsprop',\n",
    "             loss='binary_crossentropy',\n",
    "             metrics=['accuracy'])"
   ]
  },
  {
   "cell_type": "code",
   "execution_count": 46,
   "metadata": {},
   "outputs": [
    {
     "name": "stdout",
     "output_type": "stream",
     "text": [
      "Train on 1252 samples, validate on 312 samples\n",
      "Epoch 1/20\n",
      "1252/1252 [==============================] - 2s 1ms/sample - loss: 0.6835 - accuracy: 0.6278 - val_loss: 0.6402 - val_accuracy: 0.8942\n",
      "Epoch 2/20\n",
      "1252/1252 [==============================] - 0s 167us/sample - loss: 0.6046 - accuracy: 0.9297 - val_loss: 0.5285 - val_accuracy: 0.8782\n",
      "Epoch 3/20\n",
      "1252/1252 [==============================] - 0s 172us/sample - loss: 0.4635 - accuracy: 0.9361 - val_loss: 0.4059 - val_accuracy: 0.9071\n",
      "Epoch 4/20\n",
      "1252/1252 [==============================] - 0s 161us/sample - loss: 0.3210 - accuracy: 0.9481 - val_loss: 0.3211 - val_accuracy: 0.9103\n",
      "Epoch 5/20\n",
      "1252/1252 [==============================] - 0s 145us/sample - loss: 0.2229 - accuracy: 0.9545 - val_loss: 0.2778 - val_accuracy: 0.9038\n",
      "Epoch 6/20\n",
      "1252/1252 [==============================] - 1s 430us/sample - loss: 0.1636 - accuracy: 0.9633 - val_loss: 0.2456 - val_accuracy: 0.9103\n",
      "Epoch 7/20\n",
      "1252/1252 [==============================] - 0s 342us/sample - loss: 0.1257 - accuracy: 0.9633 - val_loss: 0.2354 - val_accuracy: 0.9006\n",
      "Epoch 8/20\n",
      "1252/1252 [==============================] - 0s 241us/sample - loss: 0.1009 - accuracy: 0.9657 - val_loss: 0.2283 - val_accuracy: 0.9006\n",
      "Epoch 9/20\n",
      "1252/1252 [==============================] - 0s 212us/sample - loss: 0.0834 - accuracy: 0.9744 - val_loss: 0.2203 - val_accuracy: 0.9006\n",
      "Epoch 10/20\n",
      "1252/1252 [==============================] - 0s 225us/sample - loss: 0.0698 - accuracy: 0.9808 - val_loss: 0.2188 - val_accuracy: 0.9071\n",
      "Epoch 11/20\n",
      "1252/1252 [==============================] - 0s 193us/sample - loss: 0.0602 - accuracy: 0.9792 - val_loss: 0.2325 - val_accuracy: 0.8878\n",
      "Epoch 12/20\n",
      "1252/1252 [==============================] - 0s 218us/sample - loss: 0.0527 - accuracy: 0.9880 - val_loss: 0.2142 - val_accuracy: 0.9038\n",
      "Epoch 13/20\n",
      "1252/1252 [==============================] - 0s 150us/sample - loss: 0.0464 - accuracy: 0.9880 - val_loss: 0.2343 - val_accuracy: 0.8846\n",
      "Epoch 14/20\n",
      "1252/1252 [==============================] - 0s 248us/sample - loss: 0.0433 - accuracy: 0.9888 - val_loss: 0.2047 - val_accuracy: 0.9199\n",
      "Epoch 15/20\n",
      "1252/1252 [==============================] - 0s 165us/sample - loss: 0.0367 - accuracy: 0.9896 - val_loss: 0.2180 - val_accuracy: 0.8910\n",
      "Epoch 16/20\n",
      "1252/1252 [==============================] - 0s 132us/sample - loss: 0.0341 - accuracy: 0.9896 - val_loss: 0.2087 - val_accuracy: 0.9135\n",
      "Epoch 17/20\n",
      "1252/1252 [==============================] - 0s 202us/sample - loss: 0.0314 - accuracy: 0.9896 - val_loss: 0.2039 - val_accuracy: 0.9135\n",
      "Epoch 18/20\n",
      "1252/1252 [==============================] - 0s 170us/sample - loss: 0.0293 - accuracy: 0.9912 - val_loss: 0.2228 - val_accuracy: 0.8942\n",
      "Epoch 19/20\n",
      "1252/1252 [==============================] - 0s 175us/sample - loss: 0.0271 - accuracy: 0.9912 - val_loss: 0.2079 - val_accuracy: 0.9199\n",
      "Epoch 20/20\n",
      "1252/1252 [==============================] - 0s 167us/sample - loss: 0.0258 - accuracy: 0.9920 - val_loss: 0.2191 - val_accuracy: 0.9038\n"
     ]
    }
   ],
   "source": [
    "# Train and Validate for Model 2\n",
    "\n",
    "history_4 = model_4.fit(partial_x_train, \n",
    "                    partial_y_train,\n",
    "                    epochs = 20,\n",
    "                    batch_size = 512,\n",
    "                    validation_data = (x_val, y_val)) "
   ]
  },
  {
   "cell_type": "code",
   "execution_count": 47,
   "metadata": {},
   "outputs": [
    {
     "data": {
      "text/plain": [
       "dict_keys(['loss', 'accuracy', 'val_loss', 'val_accuracy'])"
      ]
     },
     "execution_count": 47,
     "metadata": {},
     "output_type": "execute_result"
    }
   ],
   "source": [
    "history_dict_4 = history_4.history\n",
    "history_dict_4.keys()"
   ]
  },
  {
   "cell_type": "code",
   "execution_count": 48,
   "metadata": {},
   "outputs": [
    {
     "data": {
      "text/plain": [
       "[0.683535111026642,\n",
       " 0.6046281955874385,\n",
       " 0.46346104468781346,\n",
       " 0.3209787633853218,\n",
       " 0.22289604491319137,\n",
       " 0.16359021298039836,\n",
       " 0.12569993834335583,\n",
       " 0.10088394446590077,\n",
       " 0.08344276451740783,\n",
       " 0.06978979180700863,\n",
       " 0.06024978347955801,\n",
       " 0.052702873362043795,\n",
       " 0.04635180218722493,\n",
       " 0.043274533515349746,\n",
       " 0.036666248148432175,\n",
       " 0.03407880733497798,\n",
       " 0.03136835418665371,\n",
       " 0.02926476205737827,\n",
       " 0.027060702466926635,\n",
       " 0.025823034804326277]"
      ]
     },
     "execution_count": 48,
     "metadata": {},
     "output_type": "execute_result"
    }
   ],
   "source": [
    "history_dict_4['loss']"
   ]
  },
  {
   "cell_type": "code",
   "execution_count": 49,
   "metadata": {},
   "outputs": [
    {
     "data": {
      "image/png": "[encoded data removed]",
      "text/plain": [
       "<Figure size 432x288 with 1 Axes>"
      ]
     },
     "metadata": {
      "needs_background": "light"
     },
     "output_type": "display_data"
    }
   ],
   "source": [
    "loss = history_dict_4['loss']\n",
    "val_loss = history_dict_4['val_loss']\n",
    "\n",
    "epochs = range(1, len(loss) + 1)\n",
    "\n",
    "blue_dots = 'bo'\n",
    "solid_blue_line = 'b'\n",
    "\n",
    "plt.plot(epochs, loss, blue_dots, label = 'Training loss')\n",
    "plt.plot(epochs, val_loss, solid_blue_line, label = 'Validation loss')\n",
    "plt.title('Training and validation loss')\n",
    "plt.xlabel('Epochs')\n",
    "plt.ylabel('Loss')\n",
    "plt.legend()\n",
    "\n",
    "plt.show()"
   ]
  },
  {
   "cell_type": "code",
   "execution_count": 50,
   "metadata": {},
   "outputs": [
    {
     "data": {
      "text/plain": [
       "[0.6277955,\n",
       " 0.9297125,\n",
       " 0.9361022,\n",
       " 0.94808304,\n",
       " 0.95447284,\n",
       " 0.9632588,\n",
       " 0.9632588,\n",
       " 0.96565497,\n",
       " 0.9744409,\n",
       " 0.98083067,\n",
       " 0.9792332,\n",
       " 0.98801917,\n",
       " 0.98801917,\n",
       " 0.9888179,\n",
       " 0.98961663,\n",
       " 0.98961663,\n",
       " 0.98961663,\n",
       " 0.99121404,\n",
       " 0.99121404,\n",
       " 0.9920128]"
      ]
     },
     "execution_count": 50,
     "metadata": {},
     "output_type": "execute_result"
    }
   ],
   "source": [
    "history_dict_4['accuracy']"
   ]
  },
  {
   "cell_type": "code",
   "execution_count": 51,
   "metadata": {},
   "outputs": [
    {
     "data": {
      "image/png": "[encoded data removed]",
      "text/plain": [
       "<Figure size 432x288 with 1 Axes>"
      ]
     },
     "metadata": {
      "needs_background": "light"
     },
     "output_type": "display_data"
    }
   ],
   "source": [
    "plt.clf()\n",
    "\n",
    "acc = history_dict_4['accuracy']\n",
    "val_acc = history_dict_4['val_accuracy']\n",
    "    \n",
    "epochs = range(1, len(acc) + 1)\n",
    "\n",
    "blue_dots = 'bo'\n",
    "solid_blue_line = 'b'\n",
    "    \n",
    "plt.plot(epochs, acc, blue_dots, label = 'Training acc')\n",
    "plt.plot(epochs, val_acc, solid_blue_line, label = 'Validation acc')\n",
    "plt.title('Training and validation acc')\n",
    "plt.xlabel('Epochs')\n",
    "plt.ylabel('Accuracy')\n",
    "plt.legend()\n",
    "\n",
    "plt.show()"
   ]
  },
  {
   "cell_type": "markdown",
   "metadata": {},
   "source": [
    "__Results__\n",
    "with this image it is now clear to see that at around 7-10 epochs there is marginal returns in building more capacity in the network. How about batch size?"
   ]
  },
  {
   "cell_type": "markdown",
   "metadata": {},
   "source": [
    "### Grid Search for best hyper-parameters for Deep Learning.\n",
    "This section was accomplished courtesy of Jason Brownlee at [Machine Learning Mastery](https://machinelearningmastery.com/grid-search-hyperparameters-deep-learning-models-python-keras/).\n",
    "\n",
    "The disadvantage of the train and validate apporach is that we can find a reasonable estimiate to the number of Epochs but that is not the only hyper-parameter. There are other hyper-parameters:\n",
    "1.\t__Number of Hidden Layers:__ These are the number of layers between input layer and the output layer. The idea is very simple, Keep adding layers until the test error does not improve anymore. \n",
    "\n",
    "2.\t__Dropout:__ Dropout is the regularisation technique to avoid overfitting by increasing the validation accuracy thus increasing the generalising power. \n",
    "\n",
    "3.\t__Network Weight Initialisation:__ Ideally, it may be better to use different weight initialisation schemes according to the activation function used on each layer.\n",
    "\n",
    "4.\t__Activation Function:__ Activation functions are used to introduced nonlinearity to models, which allows deep learning models to learn nonlinear prediction boundaries. Rectifier activation function is the most popular. Sigmoid is used in the output layer while making binary predictions. SoftMax is used in the output layer while making multi-class predictions.\n",
    "\n",
    "5.\t__Learning Rate:__ The learning rate defines how quickly a network updates its parameters. Low learning rate slows down the learning process but converges smoothly. Larger learning rate speeds up the learning but may not converge.\n",
    "\n",
    "6.\t__Momentum:__ Momentum helps to know the direction of the next step with the knowledge of the previous steps. It helps to prevent oscillations. A typical choice of moment is between 0.5 to 0.9.\n",
    "\n",
    "7.\t__Number of epochs:__ Number of epochs is the number of times the whole training data is shown to the network while training. Increase the number of epochs until the validation accuracy starts decreasing even when training accuracy is increasing (overfitting).\n",
    "\n",
    "8.\t__Batch Size:__ Mini batch size is the number of sub samples given to the network after which parameter update happens.\n",
    "\n",
    "Since the outcome was not as desired since it was not as clear I will perform a grid search starting to also incude the optimal Batch size."
   ]
  },
  {
   "cell_type": "code",
   "execution_count": 52,
   "metadata": {},
   "outputs": [
    {
     "name": "stderr",
     "output_type": "stream",
     "text": [
      "Using TensorFlow backend.\n"
     ]
    },
    {
     "name": "stdout",
     "output_type": "stream",
     "text": [
      "{'batch_size': 40, 'epochs': 5}\n",
      "Time elapsed to find those 6 parameters each one limited to max of three was 1517.42 seconds.\n"
     ]
    }
   ],
   "source": [
    "# Use scikit-learn and Keras to grid search the batch size and epochs\n",
    "\n",
    "from sklearn.model_selection import GridSearchCV\n",
    "from sklearn.metrics import make_scorer\n",
    "from sklearn.metrics import accuracy_score, precision_score, recall_score\n",
    "from keras.models import Sequential\n",
    "from keras.layers import Dense\n",
    "from keras.wrappers.scikit_learn import KerasClassifier\n",
    "import timeit\n",
    "\n",
    "def create_model():\n",
    "    model = Sequential()\n",
    "    model.add(Dense(256, input_dim=2727, activation='relu'))\n",
    "    model.add(Dense(256, activation='relu'))\n",
    "    model.add(Dense(1, activation='sigmoid'))\n",
    "    model.compile(loss='binary_crossentropy', \n",
    "                  optimizer='rmsprop', \n",
    "                  metrics=['accuracy'])\n",
    "    return model\n",
    "\n",
    "start_time = timeit.default_timer()\n",
    "model = KerasClassifier(build_fn=create_model, verbose=0)\n",
    "\n",
    "scorers = {\n",
    "        'precision_score': make_scorer(precision_score),\n",
    "        'recall_score': make_scorer(recall_score),\n",
    "        'accuracy_score': make_scorer(accuracy_score)\n",
    "        }\n",
    "\n",
    "batch_size = [10, 20, 40, 60, 80, 100]\n",
    "# batch_size = [x for x in range(1,30)]\n",
    "\n",
    "epochs = [5, 7, 10, 12, 15, 17, 20, 22, 25]\n",
    "# epochs = [x for x in range(1,30)]\n",
    "\n",
    "param_grid = dict(batch_size=batch_size, epochs=epochs)\n",
    "\n",
    "grid = GridSearchCV(estimator=model, \n",
    "                    param_grid=param_grid, \n",
    "                    n_jobs=-1, \n",
    "                    cv=3, \n",
    "                    scoring=scorers,\n",
    "                   refit=\"accuracy_score\")\n",
    "\n",
    "grid_result = grid.fit(x_train_dl, y_train_dl)\n",
    "\n",
    "elapsed_dl = timeit.default_timer() - start_time\n",
    "\n",
    "print(grid_result.best_params_)\n",
    "print('Time elapsed to find those 6 parameters each one limited to max of three was {} seconds.'.format(\n",
    "    round(elapsed_dl,2)))"
   ]
  },
  {
   "cell_type": "markdown",
   "metadata": {},
   "source": [
    "Performing such an experimentation on 2 hyper-parameters is a computationally expensive task. Admittedly my laptop is a GPU but dated 2018 and the process above is simplified tremedously. Ideally you would loop through all the known values of Epochs and Batch Size within a certain range to find the most optimum. You would also repeat this process for all the 8 hyperparameters.\n",
    "\n",
    "You also have to keep in mind of Information Leak. Everytime you run the model towards tuning your hyper-parameters the risk of overfitting increases. So you would need a very large dataset."
   ]
  },
  {
   "cell_type": "code",
   "execution_count": 55,
   "metadata": {},
   "outputs": [
    {
     "name": "stdout",
     "output_type": "stream",
     "text": [
      "Train on 1564 samples\n",
      "Epoch 1/5\n",
      "1564/1564 [==============================] - 2s 1ms/sample - loss: 0.5800 - accuracy: 0.7749\n",
      "Epoch 2/5\n",
      "1564/1564 [==============================] - 1s 754us/sample - loss: 0.2691 - accuracy: 0.9162\n",
      "Epoch 3/5\n",
      "1564/1564 [==============================] - 2s 1ms/sample - loss: 0.1564 - accuracy: 0.9405\n",
      "Epoch 4/5\n",
      "1564/1564 [==============================] - 2s 1ms/sample - loss: 0.1133 - accuracy: 0.9520\n",
      "Epoch 5/5\n",
      "1564/1564 [==============================] - 1s 840us/sample - loss: 0.0800 - accuracy: 0.9712\n",
      "392/1 [================================================================================================================================================================================================================================================================================================================================================================================================================================================================================================================================================================================================================================================================================================================================================================================================================================================================================================================================================================================================================================================================================================================================================================================================================================================================================================================================================================================================================================================================================================================================================================================================================================================================================================================================================================================================================================================================================================================================================================================================================================================================================================================================================================================================================================================================================================================================================================================================================================================================================================================================================================================================================================================================================================================================================================================================================================================================================================================================================================================================================================================================================================================================================================================================================================================================================================================================================================================================================================================================================================================================================================================================================================================================================================================================================================================================================================================================================================================================================================================================================================================================================================================================================================================================================================================================================================================================================================================================================================================================================================================================================================================================================================================================================================================================================================================================================================================================================================================================================================================================================================================================================================================================================================================================================================================================================================================================================================================================================================================================================================================================================================================================================================================================================================================================================================================================================================================================================================================================================================================================================================================================================================================================================================================================================================================================================================================================================================================================================================================================================================================================================================================================================================================================================================================================================================================================================================================================================================================================================================================================================================================================================================================================================================================================================================================================================================================================================================================================================================================================================================================================================================================================================================================================================================================================================================================================================================================================================================================================================================================================================================================================================================================================================================================================================================================================================================================================================================================================================================================================================================================================================================================================================================================================================================================================================================================================================================================================================================================================================================================================================================================================================================================================================================================================================================================================================================================================================================================================================================================================================================================================================================================================================================================================================================================================================================================================================================================================================================================================================================================================================================================================================================================================================================================================================================================================================================================================================================================================================================================================================================================================================================================================================================================================================================================================================================================================================================================================================================================================================================================================================================================================================================================================================================================================================================================================================================================================================================================================================================================================================================================================================================================================================================================================================================================================================================================================================================================================================================================================================================================================================================================================================================================================================================================================================================================] - 0s 635us/sample - loss: 0.3232 - accuracy: 0.9107\n"
     ]
    },
    {
     "data": {
      "text/plain": [
       "[0.23393925355405223, 0.91071427]"
      ]
     },
     "execution_count": 55,
     "metadata": {},
     "output_type": "execute_result"
    }
   ],
   "source": [
    "# Model 5 with updated Btach Size\n",
    "\n",
    "from keras import regularizers\n",
    "\n",
    "model_5 = models.Sequential()\n",
    "model_5.add(layers.Dense(256, activation = 'relu', input_shape = (2727,)))\n",
    "model_5.add(layers.Dropout(0.5))\n",
    "model_5.add(layers.Dense(256, activation = 'relu'))\n",
    "model_5.add(layers.Dropout(0.5))\n",
    "model_5.add(layers.Dense(1, activation = 'sigmoid'))\n",
    "\n",
    "model_5.compile(optimizer = 'rmsprop',\n",
    "             loss = 'binary_crossentropy',\n",
    "             metrics = ['accuracy'])\n",
    "\n",
    "model_5.fit(x_train_dl, y_train_dl, epochs = 5, batch_size = 40)\n",
    "\n",
    "results_dl_final = model_5.evaluate(x_test_dl, y_test_dl)\n",
    "\n",
    "results_dl_final"
   ]
  },
  {
   "cell_type": "markdown",
   "metadata": {},
   "source": [
    "# 4. Outcome"
   ]
  },
  {
   "cell_type": "code",
   "execution_count": 57,
   "metadata": {},
   "outputs": [
    {
     "name": "stdout",
     "output_type": "stream",
     "text": [
      "The Accuracy Score of the Multinomial Naive Bayes Model: \t0.9107142857142857\n",
      "The Accuracy Score of the Logistic Regression Model: \t\t0.9107142857142857\n",
      "The Accuracy Score of the Random Forest Model: \t\t\t0.9132653061224489\n",
      "The Accuracy Score of Random Forest best parameters: \t\t0.8443877551020408\n",
      "The Accuracy Score of Deep Learning: \t\t\t\t0.8545918464660645\n",
      "The Accuracy Score of Deep Learning Final: \t\t\t0.9107142686843872\n"
     ]
    }
   ],
   "source": [
    "# Summary\n",
    "print('The Accuracy Score of the Multinomial Naive Bayes Model: \\t{}'.format(\n",
    "    accuracy_score(y_test, predictions_nb)))\n",
    "print('The Accuracy Score of the Logistic Regression Model: \\t\\t{}'.format(\n",
    "    accuracy_score(y_test, predictions_log)))\n",
    "print('The Accuracy Score of the Random Forest Model: \\t\\t\\t{}'.format(\n",
    "    accuracy_score(y_test, predictions_ran)))\n",
    "print('The Accuracy Score of Random Forest best parameters: \\t\\t{}'.format(\n",
    "    accuracy_score(y_test, predictions_grid)))\n",
    "print('The Accuracy Score of Deep Learning: \\t\\t\\t\\t{}'.format(results_dl_val[1]))\n",
    "print('The Accuracy Score of Deep Learning Final: \\t\\t\\t{}'.format(\n",
    "    results_dl_final[1]))"
   ]
  },
  {
   "cell_type": "markdown",
   "metadata": {},
   "source": [
    "## 4.1. Results on Shallow Models\n",
    "\n",
    "In the paper by Alberto et al the measures of accuracy for there models were:\n",
    "- Multinomial Naive Bayes: 90.91% - 93.75%\n",
    "- Logistic Regression:     92.45% - 97.04%\n",
    "- Random Forest:           91.51% - 95.56%\n",
    "\n",
    "Our model did not do as well as Alberto et al. but an explanation maybe the fact that our model might be averaging across the entire dataset unlike their approach of treating each dataset separetly and unique."
   ]
  },
  {
   "cell_type": "markdown",
   "metadata": {},
   "source": [
    "## 4.2. Results on Deep Model.\n",
    "In the attempts of using Neural Networks to achieve higher results, that was not forthcoming. Even with parameter tuning I was not able to achieve significant better result than the most simplest model, Naive Bayes. There are many reasons for this but cheifly is that i have limited myself to 2 parameters to tune. As mentioend there are 8. I am sure with enough time and better computers we can tune all parameters to get the desired outcome. \n",
    "\n",
    "I also suspect that the dataset is not large enough to take the best out of Neural Networks or maybe just maybe sometimes the simplest method (Occums Razor) is better for certain situations.\n",
    "\n",
    "__Note:__ Your results may vary given the stochastic nature of the algorithm or evaluation procedure, or differences in numerical precision. Consider running the example and grid search a few times and compare the average outcome.\n",
    "\n",
    "In terms if our model was a success? i think it was. In the book, Deep Learning with Python he says that at our level a model should be able to beat a \"dumb baseline\". That is, it has to have statistical power. My model does have statistical power. It has a better than chance level (0.5) of predicting whether a comment is Spam or Not. \n",
    "\n",
    "In the real world I would parse Youtube website for more training data, tera bytes worth, and train the model some more and improve its accuracy."
   ]
  },
  {
   "cell_type": "markdown",
   "metadata": {},
   "source": [
    "## Future Research.\n",
    "\n",
    "In terms of Youtube comments, as Alberto et al have discovered each dataset (artists comments) is different and thus the data may be suited to a different model. This brings its own challenges and makes the task of removing spam comments computationally expensive. Hence, maybe why Google have yet to deployed a model that does it. In saying this computing power has expanded quite a bit since 2015 when the initial paper was published and Google does not use a singular laptop as I do. Infact Google has recently announced a quantum computer project so in time the opportunity to do current computationally expensive models will arrive."
   ]
  }
 ],
 "metadata": {
  "kernelspec": {
   "display_name": "Python 3 (ipykernel)",
   "language": "python",
   "name": "python3"
  },
  "language_info": {
   "codemirror_mode": {
    "name": "ipython",
    "version": 3
   },
   "file_extension": ".py",
   "mimetype": "text/x-python",
   "name": "python",
   "nbconvert_exporter": "python",
   "pygments_lexer": "ipython3",
   "version": "3.10.9"
  }
 },
 "nbformat": 4,
 "nbformat_minor": 4
}
